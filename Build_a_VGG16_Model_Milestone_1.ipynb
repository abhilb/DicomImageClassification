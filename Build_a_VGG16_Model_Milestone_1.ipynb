{
  "nbformat": 4,
  "nbformat_minor": 0,
  "metadata": {
    "colab": {
      "name": "Build a VGG16 Model - Milestone-1.ipynb",
      "provenance": [],
      "authorship_tag": "ABX9TyOTxEk5Z7oV5dKGhGY2n9k9",
      "include_colab_link": true
    },
    "kernelspec": {
      "name": "python3",
      "display_name": "Python 3"
    },
    "language_info": {
      "name": "python"
    }
  },
  "cells": [
    {
      "cell_type": "markdown",
      "metadata": {
        "id": "view-in-github",
        "colab_type": "text"
      },
      "source": [
        "<a href=\"https://colab.research.google.com/github/abhilb/DicomImageClassification/blob/main/Build_a_VGG16_Model_Milestone_1.ipynb\" target=\"_parent\"><img src=\"https://colab.research.google.com/assets/colab-badge.svg\" alt=\"Open In Colab\"/></a>"
      ]
    },
    {
      "cell_type": "markdown",
      "metadata": {
        "id": "PwteyocdbNqG"
      },
      "source": [
        "# Transfer Learning for Dicom Image Classification"
      ]
    },
    {
      "cell_type": "markdown",
      "metadata": {
        "id": "WXgwZ4Zba6Pk"
      },
      "source": [
        "# Workflow\n",
        "\n",
        "1. Load the XRAY image dataset, define paths to the datasets, including path to COVID and Non-COVID data.\n",
        "\n",
        "2. Open and display a random set of 9 images (COVID and non-COVID) from the XRAY image dataset.\n",
        "\n",
        "3. Resize all images to 224x224 pixels.\n",
        "\n",
        "4. Plot label distribution of images- that is how many images per label for XRAY image dataset.\n",
        "\n",
        "5. Estimate image statistics- mean, max, min, standard deviation of pixel values in X-ray images.\n",
        "\n",
        "6. Plot histogram of image intensities for COVID and Non-COVID images from the XRAY image dataset.\n",
        "\n",
        "7. Compare histograms of COVID and Non-COVID images. How do they differ? What information do you get from the histograms?\n",
        "\n",
        "8. Convert all images from the COVID and Non-COVID directories in DICOM (.dcm) format.\n",
        "\n",
        "9. Save all file paths with their class labels to a CSV file."
      ]
    },
    {
      "cell_type": "code",
      "metadata": {
        "colab": {
          "base_uri": "https://localhost:8080/"
        },
        "id": "hx6rIPega1K0",
        "outputId": "25b670e8-0ce6-44cf-ec09-7338183ec4a2"
      },
      "source": [
        "from pathlib import Path\n",
        "from google.colab import drive\n",
        "drive.mount('/content/gdrive')"
      ],
      "execution_count": 3,
      "outputs": [
        {
          "output_type": "stream",
          "text": [
            "Mounted at /content/gdrive\n"
          ],
          "name": "stdout"
        }
      ]
    },
    {
      "cell_type": "code",
      "metadata": {
        "id": "G6xtZ8x4ba7Y"
      },
      "source": [
        "import numpy as np\n",
        "import tensorflow as tf\n",
        "import matplotlib.pyplot as plt\n",
        "import csv\n",
        "import random\n",
        "import pandas as pd\n",
        "from itertools import chain\n",
        "from collections import defaultdict"
      ],
      "execution_count": 19,
      "outputs": []
    },
    {
      "cell_type": "markdown",
      "metadata": {
        "id": "ffV-zFv0mUd7"
      },
      "source": [
        "## Step 1. Load the XRAY image dataset, define paths to the datasets, including path to COVID and NON-COVID data."
      ]
    },
    {
      "cell_type": "code",
      "metadata": {
        "id": "kYS6pIw3cNYs"
      },
      "source": [
        "!unzip '/content/gdrive/MyDrive/Colab Notebooks/content/COVID-19_Radiography_Database.zip'"
      ],
      "execution_count": null,
      "outputs": []
    },
    {
      "cell_type": "code",
      "metadata": {
        "id": "utCNw2KAhyC8"
      },
      "source": [
        "NORMAL_IMAGES_PATH = Path('COVID-19_Radiography_Dataset/Normal/')\n",
        "COVID_IMAGES_PATH = Path('COVID-19_Radiography_Dataset/COVID/')"
      ],
      "execution_count": 13,
      "outputs": []
    },
    {
      "cell_type": "code",
      "metadata": {
        "id": "6qSPGEdIiDPm"
      },
      "source": [
        "dataset = defaultdict(list)\n",
        "for img_name in chain(NORMAL_IMAGES_PATH.rglob('*.png'), COVID_IMAGES_PATH.rglob('*.png')):\n",
        "  label = img_name.parent.stem.upper()\n",
        "  fname = img_name\n",
        "  dataset['label'].append(label)\n",
        "  dataset['path'].append(fname)\n",
        "df = pd.DataFrame(dataset)"
      ],
      "execution_count": 28,
      "outputs": []
    },
    {
      "cell_type": "code",
      "metadata": {
        "colab": {
          "base_uri": "https://localhost:8080/",
          "height": 298
        },
        "id": "wVODWmaijYIw",
        "outputId": "17a643ff-58bd-4cd6-96bb-bea6c2539efa"
      },
      "source": [
        "df['label'].value_counts().plot(kind='bar')\n",
        "plt.show()"
      ],
      "execution_count": 29,
      "outputs": [
        {
          "output_type": "display_data",
          "data": {
            "image/png": "[encoded data removed]",
            "text/plain": [
              "<Figure size 432x288 with 1 Axes>"
            ]
          },
          "metadata": {
            "tags": [],
            "needs_background": "light"
          }
        }
      ]
    },
    {
      "cell_type": "code",
      "metadata": {
        "id": "j1yWNdQRlVr-"
      },
      "source": [
        ""
      ],
      "execution_count": null,
      "outputs": []
    }
  ]
}