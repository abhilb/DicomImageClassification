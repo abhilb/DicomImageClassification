{
  "nbformat": 4,
  "nbformat_minor": 0,
  "metadata": {
    "colab": {
      "name": "Build a VGG16 Model - Milestone-2.ipynb",
      "provenance": [],
      "collapsed_sections": [],
      "authorship_tag": "ABX9TyMaPRAuU+kiEmVaekMV076y",
      "include_colab_link": true
    },
    "kernelspec": {
      "name": "python3",
      "display_name": "Python 3"
    },
    "language_info": {
      "name": "python"
    }
  },
  "cells": [
    {
      "cell_type": "markdown",
      "metadata": {
        "id": "view-in-github",
        "colab_type": "text"
      },
      "source": [
        "<a href=\"https://colab.research.google.com/github/abhilb/DicomImageClassification/blob/main/Build_a_VGG16_Model_Milestone_2.ipynb\" target=\"_parent\"><img src=\"https://colab.research.google.com/assets/colab-badge.svg\" alt=\"Open In Colab\"/></a>"
      ]
    },
    {
      "cell_type": "markdown",
      "metadata": {
        "id": "2prCa7Hc4tbW"
      },
      "source": [
        "# COVID Chest X-Ray Image Classification Using VGG16\n",
        "### Objective\n",
        "Train a VGG16 model in a real clinical setting using DICOM images (X-ray) with Keras. Use a custom data generator to input images in DICOM format to a Keras deep learning model. Build the VGG16 model from basic building blocks and train it with the X-ray data to achieve good (> 70%) validation accuracy."
      ]
    },
    {
      "cell_type": "markdown",
      "metadata": {
        "id": "FzY0Y9Iu3_fI"
      },
      "source": [
        "## Step 1. Use a custom image data generator which takes in DICOM images.\n",
        "\n",
        "* Load the CSV file you saved in Part 1 in a pandas DataFrame\n",
        "* Split n the DataFrame into train, test DataFrame using the function train_test_split(test_size=0.2) from the sklearn.model_selection library\n",
        "* Add train/ test/ validation data augmentation parameters in a dictionary form or use the Keras preprocessing function.\n",
        "* Set training/ test/ validation parameters such as BATCH_SIZE, CLASS_MODE, COLOR_MODE, TARGET_SIZE, and EPOCHS.\n",
        "* Create a data generator class for reading in DICOM images or use the class provided. With this custom datagenerator class create a train and validation generator.\n",
        "* Build a VGG 16 model from scratch and train using X-ray images\n",
        "\n",
        "## Step 2. Build the VGG16 model from scratch using correct layers and activations.\n",
        "* Compile the model and check model summary.\n",
        "* Using the model.fit_generator function of Keras, train the model using the train_generator and validation_generator you built.\n",
        "* Plot the training loss. accuracy, and validation loss. and accuracy values vs. epochs.\n",
        "* Load a set of 9 random images from the test_generator, run model.predict on them. and visualize the prediction scores along with the test images"
      ]
    },
    {
      "cell_type": "code",
      "metadata": {
        "colab": {
          "base_uri": "https://localhost:8080/"
        },
        "id": "fm8rzmHT03zk",
        "outputId": "f7af4731-ef7b-4ff0-8678-09ffe83140fd"
      },
      "source": [
        "from google.colab import drive\n",
        "drive.mount('/content/gdrive')"
      ],
      "execution_count": 1,
      "outputs": [
        {
          "output_type": "stream",
          "text": [
            "Mounted at /content/gdrive\n"
          ],
          "name": "stdout"
        }
      ]
    },
    {
      "cell_type": "code",
      "metadata": {
        "id": "iuI01HHi4S8T"
      },
      "source": [
        "import tensorflow as tf\n",
        "from tensorflow.keras.layers import (\n",
        "    Conv2D,\n",
        "    MaxPooling2D,\n",
        "    Flatten,\n",
        "    Dense,\n",
        "    Dropout,\n",
        "    InputLayer\n",
        ")\n",
        "from tensorflow.keras.utils import Sequence\n",
        "from tensorflow.keras.models import Sequential\n",
        "from tensorflow.keras.preprocessing.image import ImageDataGenerator"
      ],
      "execution_count": 21,
      "outputs": []
    },
    {
      "cell_type": "code",
      "metadata": {
        "id": "5iO7W0mH0-hw",
        "colab": {
          "base_uri": "https://localhost:8080/"
        },
        "outputId": "b52b9416-3e1f-4cdd-d347-52974e303ff1"
      },
      "source": [
        "import numpy as np\n",
        "import pandas as pd\n",
        "from pathlib import Path\n",
        "from sklearn.model_selection import train_test_split\n",
        "!pip install pydicom\n",
        "!pip install SimpleITK\n",
        "from pydicom import dcmread\n",
        "import matplotlib.pyplot as plt\n",
        "import SimpleITK as sitk"
      ],
      "execution_count": 25,
      "outputs": [
        {
          "output_type": "stream",
          "text": [
            "Requirement already satisfied: pydicom in /usr/local/lib/python3.7/dist-packages (2.1.2)\n",
            "Requirement already satisfied: SimpleITK in /usr/local/lib/python3.7/dist-packages (2.0.2)\n"
          ],
          "name": "stdout"
        }
      ]
    },
    {
      "cell_type": "code",
      "metadata": {
        "id": "H5gyki6v4N_T"
      },
      "source": [
        "normal_data_dir = Path('./gdrive/MyDrive/Colab Notebooks/content/normal').absolute()\n",
        "covid_data_dir = Path('./gdrive/MyDrive/Colab Notebooks/content/covid').absolute()\n",
        "dataset_dir = Path('./gdrive/MyDrive/Colab Notebooks/content/')"
      ],
      "execution_count": 4,
      "outputs": []
    },
    {
      "cell_type": "code",
      "metadata": {
        "id": "eSH_42Gl6Wey"
      },
      "source": [
        "normal_data = [x for x in normal_data_dir.rglob(\"*.dcm\")]\n",
        "covid_data = [x for x in covid_data_dir.rglob(\"*.dcm\")]"
      ],
      "execution_count": 5,
      "outputs": []
    },
    {
      "cell_type": "markdown",
      "metadata": {
        "id": "E46FPTEUHRcV"
      },
      "source": [
        "### Load the CSV file you saved in Part 1 in a pandas DataFrame"
      ]
    },
    {
      "cell_type": "code",
      "metadata": {
        "id": "kZWtuvGR66J6",
        "colab": {
          "base_uri": "https://localhost:8080/",
          "height": 204
        },
        "outputId": "59a62ca2-1f55-4d85-d4f0-c4d6cf27d226"
      },
      "source": [
        "dataset = pd.read_csv(dataset_dir / \"dataset.csv\", header=None, names=[\"Path\", \"Label\"])\n",
        "dataset.head()"
      ],
      "execution_count": 6,
      "outputs": [
        {
          "output_type": "execute_result",
          "data": {
            "text/html": [
              "<div>\n",
              "<style scoped>\n",
              "    .dataframe tbody tr th:only-of-type {\n",
              "        vertical-align: middle;\n",
              "    }\n",
              "\n",
              "    .dataframe tbody tr th {\n",
              "        vertical-align: top;\n",
              "    }\n",
              "\n",
              "    .dataframe thead th {\n",
              "        text-align: right;\n",
              "    }\n",
              "</style>\n",
              "<table border=\"1\" class=\"dataframe\">\n",
              "  <thead>\n",
              "    <tr style=\"text-align: right;\">\n",
              "      <th></th>\n",
              "      <th>Path</th>\n",
              "      <th>Label</th>\n",
              "    </tr>\n",
              "  </thead>\n",
              "  <tbody>\n",
              "    <tr>\n",
              "      <th>0</th>\n",
              "      <td>/content/gdrive/MyDrive/Colab Notebooks/conten...</td>\n",
              "      <td>COVID</td>\n",
              "    </tr>\n",
              "    <tr>\n",
              "      <th>1</th>\n",
              "      <td>/content/gdrive/MyDrive/Colab Notebooks/conten...</td>\n",
              "      <td>COVID</td>\n",
              "    </tr>\n",
              "    <tr>\n",
              "      <th>2</th>\n",
              "      <td>/content/gdrive/MyDrive/Colab Notebooks/conten...</td>\n",
              "      <td>COVID</td>\n",
              "    </tr>\n",
              "    <tr>\n",
              "      <th>3</th>\n",
              "      <td>/content/gdrive/MyDrive/Colab Notebooks/conten...</td>\n",
              "      <td>COVID</td>\n",
              "    </tr>\n",
              "    <tr>\n",
              "      <th>4</th>\n",
              "      <td>/content/gdrive/MyDrive/Colab Notebooks/conten...</td>\n",
              "      <td>COVID</td>\n",
              "    </tr>\n",
              "  </tbody>\n",
              "</table>\n",
              "</div>"
            ],
            "text/plain": [
              "                                                Path  Label\n",
              "0  /content/gdrive/MyDrive/Colab Notebooks/conten...  COVID\n",
              "1  /content/gdrive/MyDrive/Colab Notebooks/conten...  COVID\n",
              "2  /content/gdrive/MyDrive/Colab Notebooks/conten...  COVID\n",
              "3  /content/gdrive/MyDrive/Colab Notebooks/conten...  COVID\n",
              "4  /content/gdrive/MyDrive/Colab Notebooks/conten...  COVID"
            ]
          },
          "metadata": {
            "tags": []
          },
          "execution_count": 6
        }
      ]
    },
    {
      "cell_type": "markdown",
      "metadata": {
        "id": "bxTEtQQWHbOV"
      },
      "source": [
        "### Split n the DataFrame into train, test DataFrame using the function train_test_split(test_size=0.2) from the sklearn.model_selection library"
      ]
    },
    {
      "cell_type": "code",
      "metadata": {
        "id": "KWDtpNc8G6Au"
      },
      "source": [
        "train, test = train_test_split(dataset, test_size=0.2, random_state=42)"
      ],
      "execution_count": 41,
      "outputs": []
    },
    {
      "cell_type": "code",
      "metadata": {
        "colab": {
          "base_uri": "https://localhost:8080/"
        },
        "id": "69qJtMobH7YQ",
        "outputId": "d5024e1d-bff7-4781-bcc9-56f6421ed35f"
      },
      "source": [
        "print(f\"Train: {train.shape}, Test: {test.shape}\")\n",
        "print(f\"{type(train)}\")"
      ],
      "execution_count": 42,
      "outputs": [
        {
          "output_type": "stream",
          "text": [
            "Train: (11046, 2), Test: (2762, 2)\n",
            "<class 'pandas.core.frame.DataFrame'>\n"
          ],
          "name": "stdout"
        }
      ]
    },
    {
      "cell_type": "markdown",
      "metadata": {
        "id": "zTAi-LYvOSue"
      },
      "source": [
        "### Add train/ test/ validation data augmentation parameters in a dictionary form or use the Keras preprocessing function."
      ]
    },
    {
      "cell_type": "code",
      "metadata": {
        "id": "L2dhpulVIEy0"
      },
      "source": [
        "data_gen_args = dict(featurewise_center=True,\n",
        "                     featurewise_std_normalization=True,\n",
        "                     rotation_range=90,\n",
        "                     width_shift_range=0.1,\n",
        "                     height_shift_range=0.1,\n",
        "                     zoom_range=0.2)"
      ],
      "execution_count": 9,
      "outputs": []
    },
    {
      "cell_type": "markdown",
      "metadata": {
        "id": "4wlKk6F8Oc7X"
      },
      "source": [
        "### Set training/ test/ validation parameters such as BATCH_SIZE, CLASS_MODE, COLOR_MODE, TARGET_SIZE, and EPOCHS."
      ]
    },
    {
      "cell_type": "code",
      "metadata": {
        "id": "01RFinDMOeaX"
      },
      "source": [
        "BATCH_SIZE = 32\n",
        "EPOCHS = 100\n",
        "CLASS_MODE = \"categorical\"\n",
        "COLOR_MODE = \"gray\"\n",
        "TARGET_SIZE = (224, 224)"
      ],
      "execution_count": 10,
      "outputs": []
    },
    {
      "cell_type": "markdown",
      "metadata": {
        "id": "7tmeIchkYes_"
      },
      "source": [
        "### Create a data generator class for reading in DICOM images or use the class provided. With this custom datagenerator class create a train and validation generator."
      ]
    },
    {
      "cell_type": "code",
      "metadata": {
        "id": "PYLa1oGIYglu"
      },
      "source": [
        "class DataGenerator(Sequence):\n",
        "  def __init__(self,\n",
        "               dataframe,\n",
        "               batch_size = 32,\n",
        "               target_size = (224, 224),\n",
        "               x_pos = \"Path\",\n",
        "               y_pos = \"Label\",\n",
        "               shuffle=True):\n",
        "    self.df = dataframe\n",
        "    self.batch_size = batch_size\n",
        "    self.target_size = target_size\n",
        "    self.shuffle = shuffle\n",
        "    self.x_pos = x_pos\n",
        "    self.y_pos = y_pos\n",
        "    self.on_epoch_end()\n",
        "\n",
        "    assert self.batch_size > 0, \"Batch size shouldn't be zero\"\n",
        "\n",
        "  def __len__(self):\n",
        "    return self.df.shape[0] // self.batch_size\n",
        "\n",
        "  def __getitem__(self, index):\n",
        "    X = np.empty((self.batch_size, *self.target_size))\n",
        "    y = []\n",
        "    for idx in range(self.batch_size):\n",
        "      row = self.df.iloc[idx]\n",
        "      fname = row.Path\n",
        "      dicom_image = sitk.ReadImage(fname)\n",
        "      X[idx, :, :] =  sitk.GetArrayFromImage(dicom_image)\n",
        "      y.append(row.Label)\n",
        "    return X, y\n",
        "\n",
        "  def on_epoch_end(self):\n",
        "    self.df = self.df.sample(frac=1)\n"
      ],
      "execution_count": 38,
      "outputs": []
    },
    {
      "cell_type": "code",
      "metadata": {
        "id": "YjnNLZxSCEkh"
      },
      "source": [
        "train_generator = DataGenerator(train)\n",
        "test_generator = DataGenerator(test)"
      ],
      "execution_count": 39,
      "outputs": []
    },
    {
      "cell_type": "markdown",
      "metadata": {
        "id": "RO0iIaxFYhfM"
      },
      "source": [
        "### Build a VGG 16 model from scratch and train using X-ray images"
      ]
    },
    {
      "cell_type": "code",
      "metadata": {
        "id": "nSjL8D7nYmuq"
      },
      "source": [
        "def VGG_16():\n",
        "    model = Sequential()\n",
        "\n",
        "    model.add(InputLayer(input_shape=(224, 224, 1)))\n",
        "    # Block 1\n",
        "    model.add(Conv2D(64, (3, 3),\n",
        "                     activation='relu',\n",
        "                     padding = 'same', \n",
        "                     name='block1_conv1'))    \n",
        "    model.add(Conv2D(64, (3, 3),\n",
        "                     activation='relu',\n",
        "                     padding = 'same', \n",
        "                     name='block1_conv2'))\n",
        "    model.add(MaxPooling2D((2,2), strides=(2,2), name='block1_pool'))\n",
        "\n",
        "    \n",
        "    # Block 2\n",
        "    model.add(Conv2D(128, (3, 3),\n",
        "                     activation='relu',\n",
        "                     padding = 'same', \n",
        "                     name='block2_conv1'))    \n",
        "    model.add(Conv2D(128, (3, 3),\n",
        "                     activation='relu',\n",
        "                     padding = 'same', \n",
        "                     name='block2_conv2'))\n",
        "    model.add(MaxPooling2D((2,2), strides=(2,2), name='block2_pool'))\n",
        "\n",
        "    # Block 3\n",
        "    model.add(Conv2D(256, (3, 3),\n",
        "                     activation='relu',\n",
        "                     padding='same',\n",
        "                     name='block3_conv1'))\n",
        "    model.add(Conv2D(256, (3, 3),\n",
        "                     activation='relu',\n",
        "                     padding='same',\n",
        "                     name='block3_conv2'))    \n",
        "    model.add(Conv2D(256, (3, 3),\n",
        "                     activation='relu',\n",
        "                     padding='same',\n",
        "                     name='block3_conv3'))\n",
        "    model.add(MaxPooling2D((2, 2), strides=(2, 2), name='block3_pool'))\n",
        "\n",
        "    # Block 4\n",
        "    model.add(Conv2D(512, (3, 3),\n",
        "                     activation='relu',\n",
        "                     padding='same',\n",
        "                     name='block4_conv1'))\n",
        "    model.add(Conv2D(512, (3, 3),\n",
        "                     activation='relu',\n",
        "                     padding='same',\n",
        "                     name='block4_conv2'))\n",
        "    model.add(Conv2D(512, (3, 3),\n",
        "                     activation='relu',\n",
        "                     padding='same',\n",
        "                     name='block4_conv3'))\n",
        "    model.add(MaxPooling2D((2, 2), strides=(2, 2), name='block4_pool'))\n",
        "\n",
        "    # Block 5\n",
        "    model.add(Conv2D(512, (3, 3),\n",
        "                     activation='relu',\n",
        "                     padding='same',\n",
        "                     name='block5_conv1'))\n",
        "    model.add(Conv2D(512, (3, 3),\n",
        "                     activation='relu',\n",
        "                     padding='same',\n",
        "                     name='block5_conv2'))\n",
        "    model.add(Conv2D(512, (3, 3),\n",
        "                     activation='relu',\n",
        "                     padding='same',\n",
        "                     name='block5_conv3'))\n",
        "    model.add(MaxPooling2D((2, 2), strides=(2, 2), name='block5_pool'))\n",
        "\n",
        "    model.add(Flatten())\n",
        "    model.add(Dense(64, activation='relu'))\n",
        "    model.add(Dense(64, activation='relu'))\n",
        "    model.add(Dense(1, activation='softmax'))\n",
        "    return model"
      ],
      "execution_count": 43,
      "outputs": []
    },
    {
      "cell_type": "code",
      "metadata": {
        "id": "1UW5FWGzZ2Ke"
      },
      "source": [
        "model = VGG_16()"
      ],
      "execution_count": 44,
      "outputs": []
    },
    {
      "cell_type": "code",
      "metadata": {
        "id": "zTxhZsVH4emD"
      },
      "source": [
        "early_stopping = tf.keras.callbacks.EarlyStopping(\n",
        "    monitor='val_accuracy',\n",
        "    mode='max',\n",
        "    patience=6\n",
        ")"
      ],
      "execution_count": 45,
      "outputs": []
    },
    {
      "cell_type": "code",
      "metadata": {
        "colab": {
          "base_uri": "https://localhost:8080/"
        },
        "id": "0PWeNOCX1N5Z",
        "outputId": "72a0bf94-4a43-4cdd-e5d7-640548fee70e"
      },
      "source": [
        "model.compile(\n",
        "    loss='binary_crossentropy',\n",
        "    optimizer=tf.keras.optimizers.Adam(),\n",
        "    metrics=['accuracy']\n",
        ")\n",
        "model.summary()"
      ],
      "execution_count": 46,
      "outputs": [
        {
          "output_type": "stream",
          "text": [
            "Model: \"sequential\"\n",
            "_________________________________________________________________\n",
            "Layer (type)                 Output Shape              Param #   \n",
            "=================================================================\n",
            "block1_conv1 (Conv2D)        (None, 224, 224, 64)      640       \n",
            "_________________________________________________________________\n",
            "block1_conv2 (Conv2D)        (None, 224, 224, 64)      36928     \n",
            "_________________________________________________________________\n",
            "block1_pool (MaxPooling2D)   (None, 112, 112, 64)      0         \n",
            "_________________________________________________________________\n",
            "block2_conv1 (Conv2D)        (None, 112, 112, 128)     73856     \n",
            "_________________________________________________________________\n",
            "block2_conv2 (Conv2D)        (None, 112, 112, 128)     147584    \n",
            "_________________________________________________________________\n",
            "block2_pool (MaxPooling2D)   (None, 56, 56, 128)       0         \n",
            "_________________________________________________________________\n",
            "block3_conv1 (Conv2D)        (None, 56, 56, 256)       295168    \n",
            "_________________________________________________________________\n",
            "block3_conv2 (Conv2D)        (None, 56, 56, 256)       590080    \n",
            "_________________________________________________________________\n",
            "block3_conv3 (Conv2D)        (None, 56, 56, 256)       590080    \n",
            "_________________________________________________________________\n",
            "block3_pool (MaxPooling2D)   (None, 28, 28, 256)       0         \n",
            "_________________________________________________________________\n",
            "block4_conv1 (Conv2D)        (None, 28, 28, 512)       1180160   \n",
            "_________________________________________________________________\n",
            "block4_conv2 (Conv2D)        (None, 28, 28, 512)       2359808   \n",
            "_________________________________________________________________\n",
            "block4_conv3 (Conv2D)        (None, 28, 28, 512)       2359808   \n",
            "_________________________________________________________________\n",
            "block4_pool (MaxPooling2D)   (None, 14, 14, 512)       0         \n",
            "_________________________________________________________________\n",
            "block5_conv1 (Conv2D)        (None, 14, 14, 512)       2359808   \n",
            "_________________________________________________________________\n",
            "block5_conv2 (Conv2D)        (None, 14, 14, 512)       2359808   \n",
            "_________________________________________________________________\n",
            "block5_conv3 (Conv2D)        (None, 14, 14, 512)       2359808   \n",
            "_________________________________________________________________\n",
            "block5_pool (MaxPooling2D)   (None, 7, 7, 512)         0         \n",
            "_________________________________________________________________\n",
            "flatten (Flatten)            (None, 25088)             0         \n",
            "_________________________________________________________________\n",
            "dense (Dense)                (None, 64)                1605696   \n",
            "_________________________________________________________________\n",
            "dense_1 (Dense)              (None, 64)                4160      \n",
            "_________________________________________________________________\n",
            "dense_2 (Dense)              (None, 1)                 65        \n",
            "=================================================================\n",
            "Total params: 16,323,457\n",
            "Trainable params: 16,323,457\n",
            "Non-trainable params: 0\n",
            "_________________________________________________________________\n"
          ],
          "name": "stdout"
        }
      ]
    },
    {
      "cell_type": "code",
      "metadata": {
        "id": "pdQabpIJ11gm"
      },
      "source": [
        ""
      ],
      "execution_count": null,
      "outputs": []
    }
  ]
}