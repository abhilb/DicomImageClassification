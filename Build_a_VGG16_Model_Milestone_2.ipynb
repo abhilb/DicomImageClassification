{
  "nbformat": 4,
  "nbformat_minor": 0,
  "metadata": {
    "colab": {
      "name": "Build a VGG16 Model - Milestone-2.ipynb",
      "provenance": [],
      "collapsed_sections": [],
      "authorship_tag": "ABX9TyPDsN7qdoeWa3fUnfAFh2+d",
      "include_colab_link": true
    },
    "kernelspec": {
      "name": "python3",
      "display_name": "Python 3"
    },
    "language_info": {
      "name": "python"
    }
  },
  "cells": [
    {
      "cell_type": "markdown",
      "metadata": {
        "id": "view-in-github",
        "colab_type": "text"
      },
      "source": [
        "<a href=\"https://colab.research.google.com/github/abhilb/DicomImageClassification/blob/main/Build_a_VGG16_Model_Milestone_2.ipynb\" target=\"_parent\"><img src=\"https://colab.research.google.com/assets/colab-badge.svg\" alt=\"Open In Colab\"/></a>"
      ]
    },
    {
      "cell_type": "markdown",
      "metadata": {
        "id": "2prCa7Hc4tbW"
      },
      "source": [
        "# COVID Chest X-Ray Image Classification Using VGG16\n",
        "### Objective\n",
        "Train a VGG16 model in a real clinical setting using DICOM images (X-ray) with Keras. Use a custom data generator to input images in DICOM format to a Keras deep learning model. Build the VGG16 model from basic building blocks and train it with the X-ray data to achieve good (> 70%) validation accuracy."
      ]
    },
    {
      "cell_type": "markdown",
      "metadata": {
        "id": "FzY0Y9Iu3_fI"
      },
      "source": [
        "## Step 1. Use a custom image data generator which takes in DICOM images.\n",
        "\n",
        "* Load the CSV file you saved in Part 1 in a pandas DataFrame\n",
        "* Split n the DataFrame into train, test DataFrame using the function train_test_split(test_size=0.2) from the sklearn.model_selection library\n",
        "* Add train/ test/ validation data augmentation parameters in a dictionary form or use the Keras preprocessing function.\n",
        "* Set training/ test/ validation parameters such as BATCH_SIZE, CLASS_MODE, COLOR_MODE, TARGET_SIZE, and EPOCHS.\n",
        "* Create a data generator class for reading in DICOM images or use the class provided. With this custom datagenerator class create a train and validation generator.\n",
        "* Build a VGG 16 model from scratch and train using X-ray images\n",
        "\n",
        "## Step 2. Build the VGG16 model from scratch using correct layers and activations.\n",
        "* Compile the model and check model summary.\n",
        "* Using the model.fit_generator function of Keras, train the model using the train_generator and validation_generator you built.\n",
        "* Plot the training loss. accuracy, and validation loss. and accuracy values vs. epochs.\n",
        "* Load a set of 9 random images from the test_generator, run model.predict on them. and visualize the prediction scores along with the test images"
      ]
    },
    {
      "cell_type": "code",
      "metadata": {
        "colab": {
          "base_uri": "https://localhost:8080/"
        },
        "id": "fm8rzmHT03zk",
        "outputId": "c061481c-ceed-4bb0-a329-7c6784f7e682"
      },
      "source": [
        "from google.colab import drive\n",
        "drive.mount('/content/gdrive')"
      ],
      "execution_count": 2,
      "outputs": [
        {
          "output_type": "stream",
          "text": [
            "Mounted at /content/gdrive\n"
          ],
          "name": "stdout"
        }
      ]
    },
    {
      "cell_type": "code",
      "metadata": {
        "id": "iuI01HHi4S8T"
      },
      "source": [
        "import tensorflow as tf\n",
        "from tensorflow.keras.layers import (\n",
        "    Conv2D,\n",
        "    MaxPooling2D,\n",
        "    Flatten,\n",
        "    Dense,\n",
        "    Dropout,\n",
        "    InputLayer\n",
        ")\n",
        "from tensorflow.keras.models import Sequential\n",
        "from tensorflow.keras.preprocessing.image import ImageDataGenerator"
      ],
      "execution_count": 3,
      "outputs": []
    },
    {
      "cell_type": "code",
      "metadata": {
        "id": "5iO7W0mH0-hw",
        "colab": {
          "base_uri": "https://localhost:8080/"
        },
        "outputId": "19d1661c-db1b-48fc-b541-f0fe0224fd86"
      },
      "source": [
        "import numpy as np\n",
        "import pandas as pd\n",
        "from pathlib import Path\n",
        "from sklearn.model_selection import train_test_split\n",
        "!pip install pydicom\n",
        "from pydicom import dcmread\n",
        "import matplotlib.pyplot as plt"
      ],
      "execution_count": 11,
      "outputs": [
        {
          "output_type": "stream",
          "text": [
            "Collecting pydicom\n",
            "\u001b[?25l  Downloading https://files.pythonhosted.org/packages/f4/15/df16546bc59bfca390cf072d473fb2c8acd4231636f64356593a63137e55/pydicom-2.1.2-py3-none-any.whl (1.9MB)\n",
            "\r\u001b[K     |▏                               | 10kB 22.2MB/s eta 0:00:01\r\u001b[K     |▍                               | 20kB 30.2MB/s eta 0:00:01\r\u001b[K     |▌                               | 30kB 31.5MB/s eta 0:00:01\r\u001b[K     |▊                               | 40kB 21.9MB/s eta 0:00:01\r\u001b[K     |▉                               | 51kB 13.4MB/s eta 0:00:01\r\u001b[K     |█                               | 61kB 12.5MB/s eta 0:00:01\r\u001b[K     |█▏                              | 71kB 12.3MB/s eta 0:00:01\r\u001b[K     |█▍                              | 81kB 13.4MB/s eta 0:00:01\r\u001b[K     |█▋                              | 92kB 11.1MB/s eta 0:00:01\r\u001b[K     |█▊                              | 102kB 10.9MB/s eta 0:00:01\r\u001b[K     |██                              | 112kB 10.9MB/s eta 0:00:01\r\u001b[K     |██                              | 122kB 10.9MB/s eta 0:00:01\r\u001b[K     |██▎                             | 133kB 10.9MB/s eta 0:00:01\r\u001b[K     |██▍                             | 143kB 10.9MB/s eta 0:00:01\r\u001b[K     |██▋                             | 153kB 10.9MB/s eta 0:00:01\r\u001b[K     |██▉                             | 163kB 10.9MB/s eta 0:00:01\r\u001b[K     |███                             | 174kB 10.9MB/s eta 0:00:01\r\u001b[K     |███▏                            | 184kB 10.9MB/s eta 0:00:01\r\u001b[K     |███▎                            | 194kB 10.9MB/s eta 0:00:01\r\u001b[K     |███▌                            | 204kB 10.9MB/s eta 0:00:01\r\u001b[K     |███▋                            | 215kB 10.9MB/s eta 0:00:01\r\u001b[K     |███▉                            | 225kB 10.9MB/s eta 0:00:01\r\u001b[K     |████                            | 235kB 10.9MB/s eta 0:00:01\r\u001b[K     |████▏                           | 245kB 10.9MB/s eta 0:00:01\r\u001b[K     |████▍                           | 256kB 10.9MB/s eta 0:00:01\r\u001b[K     |████▌                           | 266kB 10.9MB/s eta 0:00:01\r\u001b[K     |████▊                           | 276kB 10.9MB/s eta 0:00:01\r\u001b[K     |████▉                           | 286kB 10.9MB/s eta 0:00:01\r\u001b[K     |█████                           | 296kB 10.9MB/s eta 0:00:01\r\u001b[K     |█████▎                          | 307kB 10.9MB/s eta 0:00:01\r\u001b[K     |█████▍                          | 317kB 10.9MB/s eta 0:00:01\r\u001b[K     |█████▋                          | 327kB 10.9MB/s eta 0:00:01\r\u001b[K     |█████▊                          | 337kB 10.9MB/s eta 0:00:01\r\u001b[K     |██████                          | 348kB 10.9MB/s eta 0:00:01\r\u001b[K     |██████                          | 358kB 10.9MB/s eta 0:00:01\r\u001b[K     |██████▎                         | 368kB 10.9MB/s eta 0:00:01\r\u001b[K     |██████▌                         | 378kB 10.9MB/s eta 0:00:01\r\u001b[K     |██████▋                         | 389kB 10.9MB/s eta 0:00:01\r\u001b[K     |██████▉                         | 399kB 10.9MB/s eta 0:00:01\r\u001b[K     |███████                         | 409kB 10.9MB/s eta 0:00:01\r\u001b[K     |███████▏                        | 419kB 10.9MB/s eta 0:00:01\r\u001b[K     |███████▎                        | 430kB 10.9MB/s eta 0:00:01\r\u001b[K     |███████▌                        | 440kB 10.9MB/s eta 0:00:01\r\u001b[K     |███████▊                        | 450kB 10.9MB/s eta 0:00:01\r\u001b[K     |███████▉                        | 460kB 10.9MB/s eta 0:00:01\r\u001b[K     |████████                        | 471kB 10.9MB/s eta 0:00:01\r\u001b[K     |████████▏                       | 481kB 10.9MB/s eta 0:00:01\r\u001b[K     |████████▍                       | 491kB 10.9MB/s eta 0:00:01\r\u001b[K     |████████▌                       | 501kB 10.9MB/s eta 0:00:01\r\u001b[K     |████████▊                       | 512kB 10.9MB/s eta 0:00:01\r\u001b[K     |█████████                       | 522kB 10.9MB/s eta 0:00:01\r\u001b[K     |█████████                       | 532kB 10.9MB/s eta 0:00:01\r\u001b[K     |█████████▎                      | 542kB 10.9MB/s eta 0:00:01\r\u001b[K     |█████████▍                      | 552kB 10.9MB/s eta 0:00:01\r\u001b[K     |█████████▋                      | 563kB 10.9MB/s eta 0:00:01\r\u001b[K     |█████████▊                      | 573kB 10.9MB/s eta 0:00:01\r\u001b[K     |██████████                      | 583kB 10.9MB/s eta 0:00:01\r\u001b[K     |██████████▏                     | 593kB 10.9MB/s eta 0:00:01\r\u001b[K     |██████████▎                     | 604kB 10.9MB/s eta 0:00:01\r\u001b[K     |██████████▌                     | 614kB 10.9MB/s eta 0:00:01\r\u001b[K     |██████████▋                     | 624kB 10.9MB/s eta 0:00:01\r\u001b[K     |██████████▉                     | 634kB 10.9MB/s eta 0:00:01\r\u001b[K     |███████████                     | 645kB 10.9MB/s eta 0:00:01\r\u001b[K     |███████████▏                    | 655kB 10.9MB/s eta 0:00:01\r\u001b[K     |███████████▍                    | 665kB 10.9MB/s eta 0:00:01\r\u001b[K     |███████████▌                    | 675kB 10.9MB/s eta 0:00:01\r\u001b[K     |███████████▊                    | 686kB 10.9MB/s eta 0:00:01\r\u001b[K     |███████████▉                    | 696kB 10.9MB/s eta 0:00:01\r\u001b[K     |████████████                    | 706kB 10.9MB/s eta 0:00:01\r\u001b[K     |████████████▏                   | 716kB 10.9MB/s eta 0:00:01\r\u001b[K     |████████████▍                   | 727kB 10.9MB/s eta 0:00:01\r\u001b[K     |████████████▋                   | 737kB 10.9MB/s eta 0:00:01\r\u001b[K     |████████████▊                   | 747kB 10.9MB/s eta 0:00:01\r\u001b[K     |█████████████                   | 757kB 10.9MB/s eta 0:00:01\r\u001b[K     |█████████████                   | 768kB 10.9MB/s eta 0:00:01\r\u001b[K     |█████████████▎                  | 778kB 10.9MB/s eta 0:00:01\r\u001b[K     |█████████████▍                  | 788kB 10.9MB/s eta 0:00:01\r\u001b[K     |█████████████▋                  | 798kB 10.9MB/s eta 0:00:01\r\u001b[K     |█████████████▉                  | 808kB 10.9MB/s eta 0:00:01\r\u001b[K     |██████████████                  | 819kB 10.9MB/s eta 0:00:01\r\u001b[K     |██████████████▏                 | 829kB 10.9MB/s eta 0:00:01\r\u001b[K     |██████████████▎                 | 839kB 10.9MB/s eta 0:00:01\r\u001b[K     |██████████████▌                 | 849kB 10.9MB/s eta 0:00:01\r\u001b[K     |██████████████▋                 | 860kB 10.9MB/s eta 0:00:01\r\u001b[K     |██████████████▉                 | 870kB 10.9MB/s eta 0:00:01\r\u001b[K     |███████████████                 | 880kB 10.9MB/s eta 0:00:01\r\u001b[K     |███████████████▏                | 890kB 10.9MB/s eta 0:00:01\r\u001b[K     |███████████████▍                | 901kB 10.9MB/s eta 0:00:01\r\u001b[K     |███████████████▌                | 911kB 10.9MB/s eta 0:00:01\r\u001b[K     |███████████████▊                | 921kB 10.9MB/s eta 0:00:01\r\u001b[K     |███████████████▉                | 931kB 10.9MB/s eta 0:00:01\r\u001b[K     |████████████████                | 942kB 10.9MB/s eta 0:00:01\r\u001b[K     |████████████████▎               | 952kB 10.9MB/s eta 0:00:01\r\u001b[K     |████████████████▍               | 962kB 10.9MB/s eta 0:00:01\r\u001b[K     |████████████████▋               | 972kB 10.9MB/s eta 0:00:01\r\u001b[K     |████████████████▊               | 983kB 10.9MB/s eta 0:00:01\r\u001b[K     |█████████████████               | 993kB 10.9MB/s eta 0:00:01\r\u001b[K     |█████████████████               | 1.0MB 10.9MB/s eta 0:00:01\r\u001b[K     |█████████████████▎              | 1.0MB 10.9MB/s eta 0:00:01\r\u001b[K     |█████████████████▌              | 1.0MB 10.9MB/s eta 0:00:01\r\u001b[K     |█████████████████▋              | 1.0MB 10.9MB/s eta 0:00:01\r\u001b[K     |█████████████████▉              | 1.0MB 10.9MB/s eta 0:00:01\r\u001b[K     |██████████████████              | 1.1MB 10.9MB/s eta 0:00:01\r\u001b[K     |██████████████████▏             | 1.1MB 10.9MB/s eta 0:00:01\r\u001b[K     |██████████████████▎             | 1.1MB 10.9MB/s eta 0:00:01\r\u001b[K     |██████████████████▌             | 1.1MB 10.9MB/s eta 0:00:01\r\u001b[K     |██████████████████▊             | 1.1MB 10.9MB/s eta 0:00:01\r\u001b[K     |██████████████████▉             | 1.1MB 10.9MB/s eta 0:00:01\r\u001b[K     |███████████████████             | 1.1MB 10.9MB/s eta 0:00:01\r\u001b[K     |███████████████████▏            | 1.1MB 10.9MB/s eta 0:00:01\r\u001b[K     |███████████████████▍            | 1.1MB 10.9MB/s eta 0:00:01\r\u001b[K     |███████████████████▌            | 1.1MB 10.9MB/s eta 0:00:01\r\u001b[K     |███████████████████▊            | 1.2MB 10.9MB/s eta 0:00:01\r\u001b[K     |████████████████████            | 1.2MB 10.9MB/s eta 0:00:01\r\u001b[K     |████████████████████            | 1.2MB 10.9MB/s eta 0:00:01\r\u001b[K     |████████████████████▎           | 1.2MB 10.9MB/s eta 0:00:01\r\u001b[K     |████████████████████▍           | 1.2MB 10.9MB/s eta 0:00:01\r\u001b[K     |████████████████████▋           | 1.2MB 10.9MB/s eta 0:00:01\r\u001b[K     |████████████████████▊           | 1.2MB 10.9MB/s eta 0:00:01\r\u001b[K     |█████████████████████           | 1.2MB 10.9MB/s eta 0:00:01\r\u001b[K     |█████████████████████▏          | 1.2MB 10.9MB/s eta 0:00:01\r\u001b[K     |█████████████████████▎          | 1.2MB 10.9MB/s eta 0:00:01\r\u001b[K     |█████████████████████▌          | 1.3MB 10.9MB/s eta 0:00:01\r\u001b[K     |█████████████████████▋          | 1.3MB 10.9MB/s eta 0:00:01\r\u001b[K     |█████████████████████▉          | 1.3MB 10.9MB/s eta 0:00:01\r\u001b[K     |██████████████████████          | 1.3MB 10.9MB/s eta 0:00:01\r\u001b[K     |██████████████████████▏         | 1.3MB 10.9MB/s eta 0:00:01\r\u001b[K     |██████████████████████▍         | 1.3MB 10.9MB/s eta 0:00:01\r\u001b[K     |██████████████████████▌         | 1.3MB 10.9MB/s eta 0:00:01\r\u001b[K     |██████████████████████▊         | 1.3MB 10.9MB/s eta 0:00:01\r\u001b[K     |██████████████████████▉         | 1.3MB 10.9MB/s eta 0:00:01\r\u001b[K     |███████████████████████         | 1.4MB 10.9MB/s eta 0:00:01\r\u001b[K     |███████████████████████▏        | 1.4MB 10.9MB/s eta 0:00:01\r\u001b[K     |███████████████████████▍        | 1.4MB 10.9MB/s eta 0:00:01\r\u001b[K     |███████████████████████▋        | 1.4MB 10.9MB/s eta 0:00:01\r\u001b[K     |███████████████████████▊        | 1.4MB 10.9MB/s eta 0:00:01\r\u001b[K     |████████████████████████        | 1.4MB 10.9MB/s eta 0:00:01\r\u001b[K     |████████████████████████        | 1.4MB 10.9MB/s eta 0:00:01\r\u001b[K     |████████████████████████▎       | 1.4MB 10.9MB/s eta 0:00:01\r\u001b[K     |████████████████████████▍       | 1.4MB 10.9MB/s eta 0:00:01\r\u001b[K     |████████████████████████▋       | 1.4MB 10.9MB/s eta 0:00:01\r\u001b[K     |████████████████████████▉       | 1.5MB 10.9MB/s eta 0:00:01\r\u001b[K     |█████████████████████████       | 1.5MB 10.9MB/s eta 0:00:01\r\u001b[K     |█████████████████████████▏      | 1.5MB 10.9MB/s eta 0:00:01\r\u001b[K     |█████████████████████████▎      | 1.5MB 10.9MB/s eta 0:00:01\r\u001b[K     |█████████████████████████▌      | 1.5MB 10.9MB/s eta 0:00:01\r\u001b[K     |█████████████████████████▋      | 1.5MB 10.9MB/s eta 0:00:01\r\u001b[K     |█████████████████████████▉      | 1.5MB 10.9MB/s eta 0:00:01\r\u001b[K     |██████████████████████████      | 1.5MB 10.9MB/s eta 0:00:01\r\u001b[K     |██████████████████████████▏     | 1.5MB 10.9MB/s eta 0:00:01\r\u001b[K     |██████████████████████████▍     | 1.5MB 10.9MB/s eta 0:00:01\r\u001b[K     |██████████████████████████▌     | 1.6MB 10.9MB/s eta 0:00:01\r\u001b[K     |██████████████████████████▊     | 1.6MB 10.9MB/s eta 0:00:01\r\u001b[K     |██████████████████████████▉     | 1.6MB 10.9MB/s eta 0:00:01\r\u001b[K     |███████████████████████████     | 1.6MB 10.9MB/s eta 0:00:01\r\u001b[K     |███████████████████████████▎    | 1.6MB 10.9MB/s eta 0:00:01\r\u001b[K     |███████████████████████████▍    | 1.6MB 10.9MB/s eta 0:00:01\r\u001b[K     |███████████████████████████▋    | 1.6MB 10.9MB/s eta 0:00:01\r\u001b[K     |███████████████████████████▊    | 1.6MB 10.9MB/s eta 0:00:01\r\u001b[K     |████████████████████████████    | 1.6MB 10.9MB/s eta 0:00:01\r\u001b[K     |████████████████████████████    | 1.6MB 10.9MB/s eta 0:00:01\r\u001b[K     |████████████████████████████▎   | 1.7MB 10.9MB/s eta 0:00:01\r\u001b[K     |████████████████████████████▌   | 1.7MB 10.9MB/s eta 0:00:01\r\u001b[K     |████████████████████████████▋   | 1.7MB 10.9MB/s eta 0:00:01\r\u001b[K     |████████████████████████████▉   | 1.7MB 10.9MB/s eta 0:00:01\r\u001b[K     |█████████████████████████████   | 1.7MB 10.9MB/s eta 0:00:01\r\u001b[K     |█████████████████████████████▏  | 1.7MB 10.9MB/s eta 0:00:01\r\u001b[K     |█████████████████████████████▎  | 1.7MB 10.9MB/s eta 0:00:01\r\u001b[K     |█████████████████████████████▌  | 1.7MB 10.9MB/s eta 0:00:01\r\u001b[K     |█████████████████████████████▊  | 1.7MB 10.9MB/s eta 0:00:01\r\u001b[K     |█████████████████████████████▉  | 1.8MB 10.9MB/s eta 0:00:01\r\u001b[K     |██████████████████████████████  | 1.8MB 10.9MB/s eta 0:00:01\r\u001b[K     |██████████████████████████████▏ | 1.8MB 10.9MB/s eta 0:00:01\r\u001b[K     |██████████████████████████████▍ | 1.8MB 10.9MB/s eta 0:00:01\r\u001b[K     |██████████████████████████████▌ | 1.8MB 10.9MB/s eta 0:00:01\r\u001b[K     |██████████████████████████████▊ | 1.8MB 10.9MB/s eta 0:00:01\r\u001b[K     |███████████████████████████████ | 1.8MB 10.9MB/s eta 0:00:01\r\u001b[K     |███████████████████████████████ | 1.8MB 10.9MB/s eta 0:00:01\r\u001b[K     |███████████████████████████████▎| 1.8MB 10.9MB/s eta 0:00:01\r\u001b[K     |███████████████████████████████▍| 1.8MB 10.9MB/s eta 0:00:01\r\u001b[K     |███████████████████████████████▋| 1.9MB 10.9MB/s eta 0:00:01\r\u001b[K     |███████████████████████████████▊| 1.9MB 10.9MB/s eta 0:00:01\r\u001b[K     |████████████████████████████████| 1.9MB 10.9MB/s eta 0:00:01\r\u001b[K     |████████████████████████████████| 1.9MB 10.9MB/s \n",
            "\u001b[?25hInstalling collected packages: pydicom\n",
            "Successfully installed pydicom-2.1.2\n"
          ],
          "name": "stdout"
        }
      ]
    },
    {
      "cell_type": "code",
      "metadata": {
        "id": "H5gyki6v4N_T"
      },
      "source": [
        "normal_data_dir = Path('./gdrive/MyDrive/Colab Notebooks/content/normal').absolute()\n",
        "covid_data_dir = Path('./gdrive/MyDrive/Colab Notebooks/content/covid').absolute()\n",
        "dataset_dir = Path('./gdrive/MyDrive/Colab Notebooks/content/')"
      ],
      "execution_count": 7,
      "outputs": []
    },
    {
      "cell_type": "code",
      "metadata": {
        "id": "eSH_42Gl6Wey"
      },
      "source": [
        "normal_data = [x for x in normal_data_dir.rglob(\"*.dcm\")]\n",
        "covid_data = [x for x in covid_data_dir.rglob(\"*.dcm\")]"
      ],
      "execution_count": 8,
      "outputs": []
    },
    {
      "cell_type": "markdown",
      "metadata": {
        "id": "E46FPTEUHRcV"
      },
      "source": [
        "### Load the CSV file you saved in Part 1 in a pandas DataFrame"
      ]
    },
    {
      "cell_type": "code",
      "metadata": {
        "id": "kZWtuvGR66J6",
        "colab": {
          "base_uri": "https://localhost:8080/",
          "height": 204
        },
        "outputId": "c6c6c013-a350-41b5-a235-f3496adf41aa"
      },
      "source": [
        "dataset = pd.read_csv(dataset_dir / \"dataset.csv\", header=None, names=[\"Path\", \"Label\"])\n",
        "dataset.head()"
      ],
      "execution_count": 9,
      "outputs": [
        {
          "output_type": "execute_result",
          "data": {
            "text/html": [
              "<div>\n",
              "<style scoped>\n",
              "    .dataframe tbody tr th:only-of-type {\n",
              "        vertical-align: middle;\n",
              "    }\n",
              "\n",
              "    .dataframe tbody tr th {\n",
              "        vertical-align: top;\n",
              "    }\n",
              "\n",
              "    .dataframe thead th {\n",
              "        text-align: right;\n",
              "    }\n",
              "</style>\n",
              "<table border=\"1\" class=\"dataframe\">\n",
              "  <thead>\n",
              "    <tr style=\"text-align: right;\">\n",
              "      <th></th>\n",
              "      <th>Path</th>\n",
              "      <th>Label</th>\n",
              "    </tr>\n",
              "  </thead>\n",
              "  <tbody>\n",
              "    <tr>\n",
              "      <th>0</th>\n",
              "      <td>/content/gdrive/MyDrive/Colab Notebooks/conten...</td>\n",
              "      <td>COVID</td>\n",
              "    </tr>\n",
              "    <tr>\n",
              "      <th>1</th>\n",
              "      <td>/content/gdrive/MyDrive/Colab Notebooks/conten...</td>\n",
              "      <td>COVID</td>\n",
              "    </tr>\n",
              "    <tr>\n",
              "      <th>2</th>\n",
              "      <td>/content/gdrive/MyDrive/Colab Notebooks/conten...</td>\n",
              "      <td>COVID</td>\n",
              "    </tr>\n",
              "    <tr>\n",
              "      <th>3</th>\n",
              "      <td>/content/gdrive/MyDrive/Colab Notebooks/conten...</td>\n",
              "      <td>COVID</td>\n",
              "    </tr>\n",
              "    <tr>\n",
              "      <th>4</th>\n",
              "      <td>/content/gdrive/MyDrive/Colab Notebooks/conten...</td>\n",
              "      <td>COVID</td>\n",
              "    </tr>\n",
              "  </tbody>\n",
              "</table>\n",
              "</div>"
            ],
            "text/plain": [
              "                                                Path  Label\n",
              "0  /content/gdrive/MyDrive/Colab Notebooks/conten...  COVID\n",
              "1  /content/gdrive/MyDrive/Colab Notebooks/conten...  COVID\n",
              "2  /content/gdrive/MyDrive/Colab Notebooks/conten...  COVID\n",
              "3  /content/gdrive/MyDrive/Colab Notebooks/conten...  COVID\n",
              "4  /content/gdrive/MyDrive/Colab Notebooks/conten...  COVID"
            ]
          },
          "metadata": {
            "tags": []
          },
          "execution_count": 9
        }
      ]
    },
    {
      "cell_type": "markdown",
      "metadata": {
        "id": "bxTEtQQWHbOV"
      },
      "source": [
        "### Split n the DataFrame into train, test DataFrame using the function train_test_split(test_size=0.2) from the sklearn.model_selection library"
      ]
    },
    {
      "cell_type": "code",
      "metadata": {
        "id": "KWDtpNc8G6Au"
      },
      "source": [
        "train, test = train_test_split(dataset, test_size=0.2, random_state=42)"
      ],
      "execution_count": 12,
      "outputs": []
    },
    {
      "cell_type": "code",
      "metadata": {
        "colab": {
          "base_uri": "https://localhost:8080/"
        },
        "id": "69qJtMobH7YQ",
        "outputId": "d7045ede-4aca-4d6f-e4e8-7ba1ddc80446"
      },
      "source": [
        "print(f\"Train: {train.shape}, Test: {test.shape}\")\n",
        "print(f\"{type(train)}\")"
      ],
      "execution_count": 14,
      "outputs": [
        {
          "output_type": "stream",
          "text": [
            "Train: (11046, 2), Test: (2762, 2)\n",
            "<class 'pandas.core.frame.DataFrame'>\n"
          ],
          "name": "stdout"
        }
      ]
    },
    {
      "cell_type": "markdown",
      "metadata": {
        "id": "zTAi-LYvOSue"
      },
      "source": [
        "### Add train/ test/ validation data augmentation parameters in a dictionary form or use the Keras preprocessing function."
      ]
    },
    {
      "cell_type": "code",
      "metadata": {
        "id": "L2dhpulVIEy0"
      },
      "source": [
        "data_gen_args = dict(featurewise_center=True,\n",
        "                     featurewise_std_normalization=True,\n",
        "                     rotation_range=90,\n",
        "                     width_shift_range=0.1,\n",
        "                     height_shift_range=0.1,\n",
        "                     zoom_range=0.2)"
      ],
      "execution_count": 106,
      "outputs": []
    },
    {
      "cell_type": "markdown",
      "metadata": {
        "id": "4wlKk6F8Oc7X"
      },
      "source": [
        "### Set training/ test/ validation parameters such as BATCH_SIZE, CLASS_MODE, COLOR_MODE, TARGET_SIZE, and EPOCHS."
      ]
    },
    {
      "cell_type": "code",
      "metadata": {
        "id": "01RFinDMOeaX"
      },
      "source": [
        "BATCH_SIZE = 32\n",
        "EPOCHS = 100\n",
        "CLASS_MODE = \"categorical\"\n",
        "COLOR_MODE = \"gray\"\n",
        "TARGET_SIZE = (224, 224)"
      ],
      "execution_count": 102,
      "outputs": []
    },
    {
      "cell_type": "markdown",
      "metadata": {
        "id": "7tmeIchkYes_"
      },
      "source": [
        "### Create a data generator class for reading in DICOM images or use the class provided. With this custom datagenerator class create a train and validation generator."
      ]
    },
    {
      "cell_type": "code",
      "metadata": {
        "id": "PYLa1oGIYglu",
        "colab": {
          "base_uri": "https://localhost:8080/",
          "height": 214
        },
        "outputId": "7bb0a95d-c8c0-4d3d-b11a-409f2f2b1842"
      },
      "source": [
        "class DataGenerator:\n",
        "  def __init__(self, batch_size, train_data_frame, test_data_frame):\n",
        "    self.batch_size = batch_size\n",
        "    self.train_df = train_data_frame\n",
        "    self.test_df = test_data_frame\n",
        "\n",
        "  \n"
      ],
      "execution_count": 109,
      "outputs": [
        {
          "output_type": "error",
          "ename": "TypeError",
          "evalue": "ignored",
          "traceback": [
            "\u001b[0;31m---------------------------------------------------------------------------\u001b[0m",
            "\u001b[0;31mTypeError\u001b[0m                                 Traceback (most recent call last)",
            "\u001b[0;32m<ipython-input-109-3faf6cc16f35>\u001b[0m in \u001b[0;36m<module>\u001b[0;34m()\u001b[0m\n\u001b[1;32m     17\u001b[0m     \u001b[0msubset\u001b[0m\u001b[0;34m=\u001b[0m\u001b[0;32mNone\u001b[0m\u001b[0;34m,\u001b[0m\u001b[0;34m\u001b[0m\u001b[0;34m\u001b[0m\u001b[0m\n\u001b[1;32m     18\u001b[0m     \u001b[0minterpolation\u001b[0m\u001b[0;34m=\u001b[0m\u001b[0;34m\"nearest\"\u001b[0m\u001b[0;34m,\u001b[0m\u001b[0;34m\u001b[0m\u001b[0;34m\u001b[0m\u001b[0m\n\u001b[0;32m---> 19\u001b[0;31m     \u001b[0mvalidate_filenames\u001b[0m\u001b[0;34m=\u001b[0m\u001b[0;32mTrue\u001b[0m\u001b[0;34m\u001b[0m\u001b[0;34m\u001b[0m\u001b[0m\n\u001b[0m\u001b[1;32m     20\u001b[0m )\n",
            "\u001b[0;31mTypeError\u001b[0m: flow_from_dataframe() missing 1 required positional argument: 'self'"
          ]
        }
      ]
    },
    {
      "cell_type": "code",
      "metadata": {
        "id": "eW2R1hl_b-qC"
      },
      "source": [
        "files = dataset.Path.to_numpy().astype(np.str)\n",
        "dg = data_generator(files, BATCH_SIZE)"
      ],
      "execution_count": 88,
      "outputs": []
    },
    {
      "cell_type": "markdown",
      "metadata": {
        "id": "RO0iIaxFYhfM"
      },
      "source": [
        "### Build a VGG 16 model from scratch and train using X-ray images"
      ]
    },
    {
      "cell_type": "code",
      "metadata": {
        "id": "nSjL8D7nYmuq"
      },
      "source": [
        "def VGG_16():\n",
        "    model = Sequential()\n",
        "\n",
        "    model.add(InputLayer(input_shape=(224, 224, 1)))\n",
        "    # Block 1\n",
        "    model.add(Conv2D(64, (3, 3),\n",
        "                     activation='relu',\n",
        "                     padding = 'same', \n",
        "                     name='block1_conv1'))    \n",
        "    model.add(Conv2D(64, (3, 3),\n",
        "                     activation='relu',\n",
        "                     padding = 'same', \n",
        "                     name='block1_conv2'))\n",
        "    model.add(MaxPooling2D((2,2), strides=(2,2), name='block1_pool'))\n",
        "\n",
        "    \n",
        "    # Block 2\n",
        "    model.add(Conv2D(128, (3, 3),\n",
        "                     activation='relu',\n",
        "                     padding = 'same', \n",
        "                     name='block2_conv1'))    \n",
        "    model.add(Conv2D(128, (3, 3),\n",
        "                     activation='relu',\n",
        "                     padding = 'same', \n",
        "                     name='block2_conv2'))\n",
        "    model.add(MaxPooling2D((2,2), strides=(2,2), name='block2_pool'))\n",
        "\n",
        "    # Block 3\n",
        "    model.add(Conv2D(256, (3, 3),\n",
        "                     activation='relu',\n",
        "                     padding='same',\n",
        "                     name='block3_conv1'))\n",
        "    model.add(Conv2D(256, (3, 3),\n",
        "                     activation='relu',\n",
        "                     padding='same',\n",
        "                     name='block3_conv2'))    \n",
        "    model.add(Conv2D(256, (3, 3),\n",
        "                     activation='relu',\n",
        "                     padding='same',\n",
        "                     name='block3_conv3'))\n",
        "    model.add(MaxPooling2D((2, 2), strides=(2, 2), name='block3_pool'))\n",
        "\n",
        "    # Block 4\n",
        "    model.add(Conv2D(512, (3, 3),\n",
        "                     activation='relu',\n",
        "                     padding='same',\n",
        "                     name='block4_conv1'))\n",
        "    model.add(Conv2D(512, (3, 3),\n",
        "                     activation='relu',\n",
        "                     padding='same',\n",
        "                     name='block4_conv2'))\n",
        "    model.add(Conv2D(512, (3, 3),\n",
        "                     activation='relu',\n",
        "                     padding='same',\n",
        "                     name='block4_conv3'))\n",
        "    model.add(MaxPooling2D((2, 2), strides=(2, 2), name='block4_pool'))\n",
        "\n",
        "    # Block 5\n",
        "    model.add(Conv2D(512, (3, 3),\n",
        "                     activation='relu',\n",
        "                     padding='same',\n",
        "                     name='block5_conv1'))\n",
        "    model.add(Conv2D(512, (3, 3),\n",
        "                     activation='relu',\n",
        "                     padding='same',\n",
        "                     name='block5_conv2'))\n",
        "    model.add(Conv2D(512, (3, 3),\n",
        "                     activation='relu',\n",
        "                     padding='same',\n",
        "                     name='block5_conv3'))\n",
        "    model.add(MaxPooling2D((2, 2), strides=(2, 2), name='block5_pool'))\n",
        "\n",
        "    model.add(Flatten())\n",
        "    model.add(Dense(64, activation='relu'))\n",
        "    model.add(Dense(64, activation='relu'))\n",
        "    model.add(Dense(1, activation='softmax'))\n",
        "    return model"
      ],
      "execution_count": 95,
      "outputs": []
    },
    {
      "cell_type": "code",
      "metadata": {
        "id": "1UW5FWGzZ2Ke"
      },
      "source": [
        "model = VGG_16()"
      ],
      "execution_count": 96,
      "outputs": []
    },
    {
      "cell_type": "code",
      "metadata": {
        "id": "zTxhZsVH4emD"
      },
      "source": [
        "early_stopping = tf.keras.callbacks.EarlyStopping(\n",
        "    monitor='val_accuracy',\n",
        "    mode='max',\n",
        "    patience=6\n",
        ")"
      ],
      "execution_count": 99,
      "outputs": []
    },
    {
      "cell_type": "code",
      "metadata": {
        "colab": {
          "base_uri": "https://localhost:8080/"
        },
        "id": "0PWeNOCX1N5Z",
        "outputId": "6b896d3d-4251-471b-974e-85cb1b973734"
      },
      "source": [
        "model.compile(\n",
        "    loss='binary_crossentropy',\n",
        "    optimizer=tf.keras.optimizers.Adam(),\n",
        "    metrics=['accuracy']\n",
        ")\n",
        "model.summary()"
      ],
      "execution_count": 100,
      "outputs": [
        {
          "output_type": "stream",
          "text": [
            "Model: \"sequential_15\"\n",
            "_________________________________________________________________\n",
            "Layer (type)                 Output Shape              Param #   \n",
            "=================================================================\n",
            "block1_conv1 (Conv2D)        (None, 224, 224, 64)      640       \n",
            "_________________________________________________________________\n",
            "block1_conv2 (Conv2D)        (None, 224, 224, 64)      36928     \n",
            "_________________________________________________________________\n",
            "block1_pool (MaxPooling2D)   (None, 112, 112, 64)      0         \n",
            "_________________________________________________________________\n",
            "block2_conv1 (Conv2D)        (None, 112, 112, 128)     73856     \n",
            "_________________________________________________________________\n",
            "block2_conv2 (Conv2D)        (None, 112, 112, 128)     147584    \n",
            "_________________________________________________________________\n",
            "block2_pool (MaxPooling2D)   (None, 56, 56, 128)       0         \n",
            "_________________________________________________________________\n",
            "block3_conv1 (Conv2D)        (None, 56, 56, 256)       295168    \n",
            "_________________________________________________________________\n",
            "block3_conv2 (Conv2D)        (None, 56, 56, 256)       590080    \n",
            "_________________________________________________________________\n",
            "block3_conv3 (Conv2D)        (None, 56, 56, 256)       590080    \n",
            "_________________________________________________________________\n",
            "block3_pool (MaxPooling2D)   (None, 28, 28, 256)       0         \n",
            "_________________________________________________________________\n",
            "block4_conv1 (Conv2D)        (None, 28, 28, 512)       1180160   \n",
            "_________________________________________________________________\n",
            "block4_conv2 (Conv2D)        (None, 28, 28, 512)       2359808   \n",
            "_________________________________________________________________\n",
            "block4_conv3 (Conv2D)        (None, 28, 28, 512)       2359808   \n",
            "_________________________________________________________________\n",
            "block4_pool (MaxPooling2D)   (None, 14, 14, 512)       0         \n",
            "_________________________________________________________________\n",
            "block5_conv1 (Conv2D)        (None, 14, 14, 512)       2359808   \n",
            "_________________________________________________________________\n",
            "block5_conv2 (Conv2D)        (None, 14, 14, 512)       2359808   \n",
            "_________________________________________________________________\n",
            "block5_conv3 (Conv2D)        (None, 14, 14, 512)       2359808   \n",
            "_________________________________________________________________\n",
            "block5_pool (MaxPooling2D)   (None, 7, 7, 512)         0         \n",
            "_________________________________________________________________\n",
            "flatten_1 (Flatten)          (None, 25088)             0         \n",
            "_________________________________________________________________\n",
            "dense_3 (Dense)              (None, 64)                1605696   \n",
            "_________________________________________________________________\n",
            "dense_4 (Dense)              (None, 64)                4160      \n",
            "_________________________________________________________________\n",
            "dense_5 (Dense)              (None, 1)                 65        \n",
            "=================================================================\n",
            "Total params: 16,323,457\n",
            "Trainable params: 16,323,457\n",
            "Non-trainable params: 0\n",
            "_________________________________________________________________\n"
          ],
          "name": "stdout"
        }
      ]
    },
    {
      "cell_type": "code",
      "metadata": {
        "id": "pdQabpIJ11gm"
      },
      "source": [
        ""
      ],
      "execution_count": null,
      "outputs": []
    }
  ]
}