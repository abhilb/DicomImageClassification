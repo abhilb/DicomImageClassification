{
  "nbformat": 4,
  "nbformat_minor": 0,
  "metadata": {
    "colab": {
      "name": "Build a VGG16 Model - Milestone-2.ipynb",
      "provenance": [],
      "collapsed_sections": [],
      "toc_visible": true,
      "authorship_tag": "ABX9TyNiGn/sAbxrIv9bVtB4GY5v",
      "include_colab_link": true
    },
    "kernelspec": {
      "name": "python3",
      "display_name": "Python 3"
    },
    "language_info": {
      "name": "python"
    },
    "accelerator": "GPU"
  },
  "cells": [
    {
      "cell_type": "markdown",
      "metadata": {
        "id": "view-in-github",
        "colab_type": "text"
      },
      "source": [
        "<a href=\"https://colab.research.google.com/github/abhilb/DicomImageClassification/blob/main/Build_a_VGG16_Model_Milestone_2.ipynb\" target=\"_parent\"><img src=\"https://colab.research.google.com/assets/colab-badge.svg\" alt=\"Open In Colab\"/></a>"
      ]
    },
    {
      "cell_type": "markdown",
      "metadata": {
        "id": "2prCa7Hc4tbW"
      },
      "source": [
        "# COVID Chest X-Ray Image Classification Using VGG16\n",
        "### Objective\n",
        "Train a VGG16 model in a real clinical setting using DICOM images (X-ray) with Keras. Use a custom data generator to input images in DICOM format to a Keras deep learning model. Build the VGG16 model from basic building blocks and train it with the X-ray data to achieve good (> 70%) validation accuracy."
      ]
    },
    {
      "cell_type": "markdown",
      "metadata": {
        "id": "FzY0Y9Iu3_fI"
      },
      "source": [
        "## Step 1. Use a custom image data generator which takes in DICOM images.\n",
        "\n",
        "* Load the CSV file you saved in Part 1 in a pandas DataFrame\n",
        "* Split n the DataFrame into train, test DataFrame using the function train_test_split(test_size=0.2) from the sklearn.model_selection library\n",
        "* Add train/ test/ validation data augmentation parameters in a dictionary form or use the Keras preprocessing function.\n",
        "* Set training/ test/ validation parameters such as BATCH_SIZE, CLASS_MODE, COLOR_MODE, TARGET_SIZE, and EPOCHS.\n",
        "* Create a data generator class for reading in DICOM images or use the class provided. With this custom datagenerator class create a train and validation generator.\n",
        "* Build a VGG 16 model from scratch and train using X-ray images\n",
        "\n",
        "## Step 2. Build the VGG16 model from scratch using correct layers and activations.\n",
        "* Compile the model and check model summary.\n",
        "* Using the model.fit_generator function of Keras, train the model using the train_generator and validation_generator you built.\n",
        "* Plot the training loss. accuracy, and validation loss. and accuracy values vs. epochs.\n",
        "* Load a set of 9 random images from the test_generator, run model.predict on them. and visualize the prediction scores along with the test images"
      ]
    },
    {
      "cell_type": "code",
      "metadata": {
        "colab": {
          "base_uri": "https://localhost:8080/"
        },
        "id": "fm8rzmHT03zk",
        "outputId": "78c66df9-106d-4d58-ecf6-30d8cda86051"
      },
      "source": [
        "from google.colab import drive\n",
        "drive.mount('/content/gdrive')"
      ],
      "execution_count": 1,
      "outputs": [
        {
          "output_type": "stream",
          "text": [
            "Mounted at /content/gdrive\n"
          ],
          "name": "stdout"
        }
      ]
    },
    {
      "cell_type": "code",
      "metadata": {
        "id": "iuI01HHi4S8T"
      },
      "source": [
        "import tensorflow as tf\n",
        "from tensorflow.keras.layers import (\n",
        "    Conv2D,\n",
        "    MaxPooling2D,\n",
        "    Flatten,\n",
        "    Dense,\n",
        "    Dropout,\n",
        "    InputLayer\n",
        ")\n",
        "from tensorflow.keras.utils import Sequence\n",
        "from tensorflow.keras.models import Sequential\n",
        "from tensorflow.keras.preprocessing.image import ImageDataGenerator"
      ],
      "execution_count": 2,
      "outputs": []
    },
    {
      "cell_type": "code",
      "metadata": {
        "id": "5iO7W0mH0-hw",
        "colab": {
          "base_uri": "https://localhost:8080/"
        },
        "outputId": "426b603a-686a-49db-ea1c-42c50c7fe646"
      },
      "source": [
        "import numpy as np\n",
        "import pandas as pd\n",
        "from pathlib import Path\n",
        "from sklearn.model_selection import train_test_split\n",
        "!pip install pydicom\n",
        "!pip install SimpleITK\n",
        "from pydicom import dcmread\n",
        "import matplotlib.pyplot as plt\n",
        "import SimpleITK as sitk"
      ],
      "execution_count": 3,
      "outputs": [
        {
          "output_type": "stream",
          "text": [
            "Collecting pydicom\n",
            "\u001b[?25l  Downloading https://files.pythonhosted.org/packages/f4/15/df16546bc59bfca390cf072d473fb2c8acd4231636f64356593a63137e55/pydicom-2.1.2-py3-none-any.whl (1.9MB)\n",
            "\r\u001b[K     |▏                               | 10kB 16.5MB/s eta 0:00:01\r\u001b[K     |▍                               | 20kB 23.2MB/s eta 0:00:01\r\u001b[K     |▌                               | 30kB 23.3MB/s eta 0:00:01\r\u001b[K     |▊                               | 40kB 17.9MB/s eta 0:00:01\r\u001b[K     |▉                               | 51kB 13.1MB/s eta 0:00:01\r\u001b[K     |█                               | 61kB 10.9MB/s eta 0:00:01\r\u001b[K     |█▏                              | 71kB 11.8MB/s eta 0:00:01\r\u001b[K     |█▍                              | 81kB 12.9MB/s eta 0:00:01\r\u001b[K     |█▋                              | 92kB 13.8MB/s eta 0:00:01\r\u001b[K     |█▊                              | 102kB 12.4MB/s eta 0:00:01\r\u001b[K     |██                              | 112kB 12.4MB/s eta 0:00:01\r\u001b[K     |██                              | 122kB 12.4MB/s eta 0:00:01\r\u001b[K     |██▎                             | 133kB 12.4MB/s eta 0:00:01\r\u001b[K     |██▍                             | 143kB 12.4MB/s eta 0:00:01\r\u001b[K     |██▋                             | 153kB 12.4MB/s eta 0:00:01\r\u001b[K     |██▉                             | 163kB 12.4MB/s eta 0:00:01\r\u001b[K     |███                             | 174kB 12.4MB/s eta 0:00:01\r\u001b[K     |███▏                            | 184kB 12.4MB/s eta 0:00:01\r\u001b[K     |███▎                            | 194kB 12.4MB/s eta 0:00:01\r\u001b[K     |███▌                            | 204kB 12.4MB/s eta 0:00:01\r\u001b[K     |███▋                            | 215kB 12.4MB/s eta 0:00:01\r\u001b[K     |███▉                            | 225kB 12.4MB/s eta 0:00:01\r\u001b[K     |████                            | 235kB 12.4MB/s eta 0:00:01\r\u001b[K     |████▏                           | 245kB 12.4MB/s eta 0:00:01\r\u001b[K     |████▍                           | 256kB 12.4MB/s eta 0:00:01\r\u001b[K     |████▌                           | 266kB 12.4MB/s eta 0:00:01\r\u001b[K     |████▊                           | 276kB 12.4MB/s eta 0:00:01\r\u001b[K     |████▉                           | 286kB 12.4MB/s eta 0:00:01\r\u001b[K     |█████                           | 296kB 12.4MB/s eta 0:00:01\r\u001b[K     |█████▎                          | 307kB 12.4MB/s eta 0:00:01\r\u001b[K     |█████▍                          | 317kB 12.4MB/s eta 0:00:01\r\u001b[K     |█████▋                          | 327kB 12.4MB/s eta 0:00:01\r\u001b[K     |█████▊                          | 337kB 12.4MB/s eta 0:00:01\r\u001b[K     |██████                          | 348kB 12.4MB/s eta 0:00:01\r\u001b[K     |██████                          | 358kB 12.4MB/s eta 0:00:01\r\u001b[K     |██████▎                         | 368kB 12.4MB/s eta 0:00:01\r\u001b[K     |██████▌                         | 378kB 12.4MB/s eta 0:00:01\r\u001b[K     |██████▋                         | 389kB 12.4MB/s eta 0:00:01\r\u001b[K     |██████▉                         | 399kB 12.4MB/s eta 0:00:01\r\u001b[K     |███████                         | 409kB 12.4MB/s eta 0:00:01\r\u001b[K     |███████▏                        | 419kB 12.4MB/s eta 0:00:01\r\u001b[K     |███████▎                        | 430kB 12.4MB/s eta 0:00:01\r\u001b[K     |███████▌                        | 440kB 12.4MB/s eta 0:00:01\r\u001b[K     |███████▊                        | 450kB 12.4MB/s eta 0:00:01\r\u001b[K     |███████▉                        | 460kB 12.4MB/s eta 0:00:01\r\u001b[K     |████████                        | 471kB 12.4MB/s eta 0:00:01\r\u001b[K     |████████▏                       | 481kB 12.4MB/s eta 0:00:01\r\u001b[K     |████████▍                       | 491kB 12.4MB/s eta 0:00:01\r\u001b[K     |████████▌                       | 501kB 12.4MB/s eta 0:00:01\r\u001b[K     |████████▊                       | 512kB 12.4MB/s eta 0:00:01\r\u001b[K     |█████████                       | 522kB 12.4MB/s eta 0:00:01\r\u001b[K     |█████████                       | 532kB 12.4MB/s eta 0:00:01\r\u001b[K     |█████████▎                      | 542kB 12.4MB/s eta 0:00:01\r\u001b[K     |█████████▍                      | 552kB 12.4MB/s eta 0:00:01\r\u001b[K     |█████████▋                      | 563kB 12.4MB/s eta 0:00:01\r\u001b[K     |█████████▊                      | 573kB 12.4MB/s eta 0:00:01\r\u001b[K     |██████████                      | 583kB 12.4MB/s eta 0:00:01\r\u001b[K     |██████████▏                     | 593kB 12.4MB/s eta 0:00:01\r\u001b[K     |██████████▎                     | 604kB 12.4MB/s eta 0:00:01\r\u001b[K     |██████████▌                     | 614kB 12.4MB/s eta 0:00:01\r\u001b[K     |██████████▋                     | 624kB 12.4MB/s eta 0:00:01\r\u001b[K     |██████████▉                     | 634kB 12.4MB/s eta 0:00:01\r\u001b[K     |███████████                     | 645kB 12.4MB/s eta 0:00:01\r\u001b[K     |███████████▏                    | 655kB 12.4MB/s eta 0:00:01\r\u001b[K     |███████████▍                    | 665kB 12.4MB/s eta 0:00:01\r\u001b[K     |███████████▌                    | 675kB 12.4MB/s eta 0:00:01\r\u001b[K     |███████████▊                    | 686kB 12.4MB/s eta 0:00:01\r\u001b[K     |███████████▉                    | 696kB 12.4MB/s eta 0:00:01\r\u001b[K     |████████████                    | 706kB 12.4MB/s eta 0:00:01\r\u001b[K     |████████████▏                   | 716kB 12.4MB/s eta 0:00:01\r\u001b[K     |████████████▍                   | 727kB 12.4MB/s eta 0:00:01\r\u001b[K     |████████████▋                   | 737kB 12.4MB/s eta 0:00:01\r\u001b[K     |████████████▊                   | 747kB 12.4MB/s eta 0:00:01\r\u001b[K     |█████████████                   | 757kB 12.4MB/s eta 0:00:01\r\u001b[K     |█████████████                   | 768kB 12.4MB/s eta 0:00:01\r\u001b[K     |█████████████▎                  | 778kB 12.4MB/s eta 0:00:01\r\u001b[K     |█████████████▍                  | 788kB 12.4MB/s eta 0:00:01\r\u001b[K     |█████████████▋                  | 798kB 12.4MB/s eta 0:00:01\r\u001b[K     |█████████████▉                  | 808kB 12.4MB/s eta 0:00:01\r\u001b[K     |██████████████                  | 819kB 12.4MB/s eta 0:00:01\r\u001b[K     |██████████████▏                 | 829kB 12.4MB/s eta 0:00:01\r\u001b[K     |██████████████▎                 | 839kB 12.4MB/s eta 0:00:01\r\u001b[K     |██████████████▌                 | 849kB 12.4MB/s eta 0:00:01\r\u001b[K     |██████████████▋                 | 860kB 12.4MB/s eta 0:00:01\r\u001b[K     |██████████████▉                 | 870kB 12.4MB/s eta 0:00:01\r\u001b[K     |███████████████                 | 880kB 12.4MB/s eta 0:00:01\r\u001b[K     |███████████████▏                | 890kB 12.4MB/s eta 0:00:01\r\u001b[K     |███████████████▍                | 901kB 12.4MB/s eta 0:00:01\r\u001b[K     |███████████████▌                | 911kB 12.4MB/s eta 0:00:01\r\u001b[K     |███████████████▊                | 921kB 12.4MB/s eta 0:00:01\r\u001b[K     |███████████████▉                | 931kB 12.4MB/s eta 0:00:01\r\u001b[K     |████████████████                | 942kB 12.4MB/s eta 0:00:01\r\u001b[K     |████████████████▎               | 952kB 12.4MB/s eta 0:00:01\r\u001b[K     |████████████████▍               | 962kB 12.4MB/s eta 0:00:01\r\u001b[K     |████████████████▋               | 972kB 12.4MB/s eta 0:00:01\r\u001b[K     |████████████████▊               | 983kB 12.4MB/s eta 0:00:01\r\u001b[K     |█████████████████               | 993kB 12.4MB/s eta 0:00:01\r\u001b[K     |█████████████████               | 1.0MB 12.4MB/s eta 0:00:01\r\u001b[K     |█████████████████▎              | 1.0MB 12.4MB/s eta 0:00:01\r\u001b[K     |█████████████████▌              | 1.0MB 12.4MB/s eta 0:00:01\r\u001b[K     |█████████████████▋              | 1.0MB 12.4MB/s eta 0:00:01\r\u001b[K     |█████████████████▉              | 1.0MB 12.4MB/s eta 0:00:01\r\u001b[K     |██████████████████              | 1.1MB 12.4MB/s eta 0:00:01\r\u001b[K     |██████████████████▏             | 1.1MB 12.4MB/s eta 0:00:01\r\u001b[K     |██████████████████▎             | 1.1MB 12.4MB/s eta 0:00:01\r\u001b[K     |██████████████████▌             | 1.1MB 12.4MB/s eta 0:00:01\r\u001b[K     |██████████████████▊             | 1.1MB 12.4MB/s eta 0:00:01\r\u001b[K     |██████████████████▉             | 1.1MB 12.4MB/s eta 0:00:01\r\u001b[K     |███████████████████             | 1.1MB 12.4MB/s eta 0:00:01\r\u001b[K     |███████████████████▏            | 1.1MB 12.4MB/s eta 0:00:01\r\u001b[K     |███████████████████▍            | 1.1MB 12.4MB/s eta 0:00:01\r\u001b[K     |███████████████████▌            | 1.1MB 12.4MB/s eta 0:00:01\r\u001b[K     |███████████████████▊            | 1.2MB 12.4MB/s eta 0:00:01\r\u001b[K     |████████████████████            | 1.2MB 12.4MB/s eta 0:00:01\r\u001b[K     |████████████████████            | 1.2MB 12.4MB/s eta 0:00:01\r\u001b[K     |████████████████████▎           | 1.2MB 12.4MB/s eta 0:00:01\r\u001b[K     |████████████████████▍           | 1.2MB 12.4MB/s eta 0:00:01\r\u001b[K     |████████████████████▋           | 1.2MB 12.4MB/s eta 0:00:01\r\u001b[K     |████████████████████▊           | 1.2MB 12.4MB/s eta 0:00:01\r\u001b[K     |█████████████████████           | 1.2MB 12.4MB/s eta 0:00:01\r\u001b[K     |█████████████████████▏          | 1.2MB 12.4MB/s eta 0:00:01\r\u001b[K     |█████████████████████▎          | 1.2MB 12.4MB/s eta 0:00:01\r\u001b[K     |█████████████████████▌          | 1.3MB 12.4MB/s eta 0:00:01\r\u001b[K     |█████████████████████▋          | 1.3MB 12.4MB/s eta 0:00:01\r\u001b[K     |█████████████████████▉          | 1.3MB 12.4MB/s eta 0:00:01\r\u001b[K     |██████████████████████          | 1.3MB 12.4MB/s eta 0:00:01\r\u001b[K     |██████████████████████▏         | 1.3MB 12.4MB/s eta 0:00:01\r\u001b[K     |██████████████████████▍         | 1.3MB 12.4MB/s eta 0:00:01\r\u001b[K     |██████████████████████▌         | 1.3MB 12.4MB/s eta 0:00:01\r\u001b[K     |██████████████████████▊         | 1.3MB 12.4MB/s eta 0:00:01\r\u001b[K     |██████████████████████▉         | 1.3MB 12.4MB/s eta 0:00:01\r\u001b[K     |███████████████████████         | 1.4MB 12.4MB/s eta 0:00:01\r\u001b[K     |███████████████████████▏        | 1.4MB 12.4MB/s eta 0:00:01\r\u001b[K     |███████████████████████▍        | 1.4MB 12.4MB/s eta 0:00:01\r\u001b[K     |███████████████████████▋        | 1.4MB 12.4MB/s eta 0:00:01\r\u001b[K     |███████████████████████▊        | 1.4MB 12.4MB/s eta 0:00:01\r\u001b[K     |████████████████████████        | 1.4MB 12.4MB/s eta 0:00:01\r\u001b[K     |████████████████████████        | 1.4MB 12.4MB/s eta 0:00:01\r\u001b[K     |████████████████████████▎       | 1.4MB 12.4MB/s eta 0:00:01\r\u001b[K     |████████████████████████▍       | 1.4MB 12.4MB/s eta 0:00:01\r\u001b[K     |████████████████████████▋       | 1.4MB 12.4MB/s eta 0:00:01\r\u001b[K     |████████████████████████▉       | 1.5MB 12.4MB/s eta 0:00:01\r\u001b[K     |█████████████████████████       | 1.5MB 12.4MB/s eta 0:00:01\r\u001b[K     |█████████████████████████▏      | 1.5MB 12.4MB/s eta 0:00:01\r\u001b[K     |█████████████████████████▎      | 1.5MB 12.4MB/s eta 0:00:01\r\u001b[K     |█████████████████████████▌      | 1.5MB 12.4MB/s eta 0:00:01\r\u001b[K     |█████████████████████████▋      | 1.5MB 12.4MB/s eta 0:00:01\r\u001b[K     |█████████████████████████▉      | 1.5MB 12.4MB/s eta 0:00:01\r\u001b[K     |██████████████████████████      | 1.5MB 12.4MB/s eta 0:00:01\r\u001b[K     |██████████████████████████▏     | 1.5MB 12.4MB/s eta 0:00:01\r\u001b[K     |██████████████████████████▍     | 1.5MB 12.4MB/s eta 0:00:01\r\u001b[K     |██████████████████████████▌     | 1.6MB 12.4MB/s eta 0:00:01\r\u001b[K     |██████████████████████████▊     | 1.6MB 12.4MB/s eta 0:00:01\r\u001b[K     |██████████████████████████▉     | 1.6MB 12.4MB/s eta 0:00:01\r\u001b[K     |███████████████████████████     | 1.6MB 12.4MB/s eta 0:00:01\r\u001b[K     |███████████████████████████▎    | 1.6MB 12.4MB/s eta 0:00:01\r\u001b[K     |███████████████████████████▍    | 1.6MB 12.4MB/s eta 0:00:01\r\u001b[K     |███████████████████████████▋    | 1.6MB 12.4MB/s eta 0:00:01\r\u001b[K     |███████████████████████████▊    | 1.6MB 12.4MB/s eta 0:00:01\r\u001b[K     |████████████████████████████    | 1.6MB 12.4MB/s eta 0:00:01\r\u001b[K     |████████████████████████████    | 1.6MB 12.4MB/s eta 0:00:01\r\u001b[K     |████████████████████████████▎   | 1.7MB 12.4MB/s eta 0:00:01\r\u001b[K     |████████████████████████████▌   | 1.7MB 12.4MB/s eta 0:00:01\r\u001b[K     |████████████████████████████▋   | 1.7MB 12.4MB/s eta 0:00:01\r\u001b[K     |████████████████████████████▉   | 1.7MB 12.4MB/s eta 0:00:01\r\u001b[K     |█████████████████████████████   | 1.7MB 12.4MB/s eta 0:00:01\r\u001b[K     |█████████████████████████████▏  | 1.7MB 12.4MB/s eta 0:00:01\r\u001b[K     |█████████████████████████████▎  | 1.7MB 12.4MB/s eta 0:00:01\r\u001b[K     |█████████████████████████████▌  | 1.7MB 12.4MB/s eta 0:00:01\r\u001b[K     |█████████████████████████████▊  | 1.7MB 12.4MB/s eta 0:00:01\r\u001b[K     |█████████████████████████████▉  | 1.8MB 12.4MB/s eta 0:00:01\r\u001b[K     |██████████████████████████████  | 1.8MB 12.4MB/s eta 0:00:01\r\u001b[K     |██████████████████████████████▏ | 1.8MB 12.4MB/s eta 0:00:01\r\u001b[K     |██████████████████████████████▍ | 1.8MB 12.4MB/s eta 0:00:01\r\u001b[K     |██████████████████████████████▌ | 1.8MB 12.4MB/s eta 0:00:01\r\u001b[K     |██████████████████████████████▊ | 1.8MB 12.4MB/s eta 0:00:01\r\u001b[K     |███████████████████████████████ | 1.8MB 12.4MB/s eta 0:00:01\r\u001b[K     |███████████████████████████████ | 1.8MB 12.4MB/s eta 0:00:01\r\u001b[K     |███████████████████████████████▎| 1.8MB 12.4MB/s eta 0:00:01\r\u001b[K     |███████████████████████████████▍| 1.8MB 12.4MB/s eta 0:00:01\r\u001b[K     |███████████████████████████████▋| 1.9MB 12.4MB/s eta 0:00:01\r\u001b[K     |███████████████████████████████▊| 1.9MB 12.4MB/s eta 0:00:01\r\u001b[K     |████████████████████████████████| 1.9MB 12.4MB/s eta 0:00:01\r\u001b[K     |████████████████████████████████| 1.9MB 12.4MB/s \n",
            "\u001b[?25hInstalling collected packages: pydicom\n",
            "Successfully installed pydicom-2.1.2\n",
            "Collecting SimpleITK\n",
            "\u001b[?25l  Downloading https://files.pythonhosted.org/packages/9c/6b/85df5eb3a8059b23a53a9f224476e75473f9bcc0a8583ed1a9c34619f372/SimpleITK-2.0.2-cp37-cp37m-manylinux2010_x86_64.whl (47.4MB)\n",
            "\u001b[K     |████████████████████████████████| 47.4MB 63kB/s \n",
            "\u001b[?25hInstalling collected packages: SimpleITK\n",
            "Successfully installed SimpleITK-2.0.2\n"
          ],
          "name": "stdout"
        }
      ]
    },
    {
      "cell_type": "code",
      "metadata": {
        "id": "H5gyki6v4N_T"
      },
      "source": [
        "normal_data_dir = Path('./gdrive/MyDrive/Colab Notebooks/content/normal').absolute()\n",
        "covid_data_dir = Path('./gdrive/MyDrive/Colab Notebooks/content/covid').absolute()\n",
        "dataset_dir = Path('./gdrive/MyDrive/Colab Notebooks/content/')"
      ],
      "execution_count": 4,
      "outputs": []
    },
    {
      "cell_type": "code",
      "metadata": {
        "id": "eSH_42Gl6Wey"
      },
      "source": [
        "normal_data = [x for x in normal_data_dir.rglob(\"*.dcm\")]\n",
        "covid_data = [x for x in covid_data_dir.rglob(\"*.dcm\")]"
      ],
      "execution_count": 5,
      "outputs": []
    },
    {
      "cell_type": "markdown",
      "metadata": {
        "id": "E46FPTEUHRcV"
      },
      "source": [
        "### Load the CSV file you saved in Part 1 in a pandas DataFrame"
      ]
    },
    {
      "cell_type": "code",
      "metadata": {
        "id": "kZWtuvGR66J6",
        "colab": {
          "base_uri": "https://localhost:8080/",
          "height": 204
        },
        "outputId": "dd05440a-2613-4834-b463-12cf6c3c162b"
      },
      "source": [
        "dataset = pd.read_csv(dataset_dir / \"dataset.csv\", header=None, names=[\"Path\", \"Label\"])\n",
        "dataset.Label = dataset.Label.replace({'COVID': 0, 'NORMAL': 1})\n",
        "dataset.head()"
      ],
      "execution_count": 6,
      "outputs": [
        {
          "output_type": "execute_result",
          "data": {
            "text/html": [
              "<div>\n",
              "<style scoped>\n",
              "    .dataframe tbody tr th:only-of-type {\n",
              "        vertical-align: middle;\n",
              "    }\n",
              "\n",
              "    .dataframe tbody tr th {\n",
              "        vertical-align: top;\n",
              "    }\n",
              "\n",
              "    .dataframe thead th {\n",
              "        text-align: right;\n",
              "    }\n",
              "</style>\n",
              "<table border=\"1\" class=\"dataframe\">\n",
              "  <thead>\n",
              "    <tr style=\"text-align: right;\">\n",
              "      <th></th>\n",
              "      <th>Path</th>\n",
              "      <th>Label</th>\n",
              "    </tr>\n",
              "  </thead>\n",
              "  <tbody>\n",
              "    <tr>\n",
              "      <th>0</th>\n",
              "      <td>/content/gdrive/MyDrive/Colab Notebooks/conten...</td>\n",
              "      <td>0</td>\n",
              "    </tr>\n",
              "    <tr>\n",
              "      <th>1</th>\n",
              "      <td>/content/gdrive/MyDrive/Colab Notebooks/conten...</td>\n",
              "      <td>0</td>\n",
              "    </tr>\n",
              "    <tr>\n",
              "      <th>2</th>\n",
              "      <td>/content/gdrive/MyDrive/Colab Notebooks/conten...</td>\n",
              "      <td>0</td>\n",
              "    </tr>\n",
              "    <tr>\n",
              "      <th>3</th>\n",
              "      <td>/content/gdrive/MyDrive/Colab Notebooks/conten...</td>\n",
              "      <td>0</td>\n",
              "    </tr>\n",
              "    <tr>\n",
              "      <th>4</th>\n",
              "      <td>/content/gdrive/MyDrive/Colab Notebooks/conten...</td>\n",
              "      <td>0</td>\n",
              "    </tr>\n",
              "  </tbody>\n",
              "</table>\n",
              "</div>"
            ],
            "text/plain": [
              "                                                Path  Label\n",
              "0  /content/gdrive/MyDrive/Colab Notebooks/conten...      0\n",
              "1  /content/gdrive/MyDrive/Colab Notebooks/conten...      0\n",
              "2  /content/gdrive/MyDrive/Colab Notebooks/conten...      0\n",
              "3  /content/gdrive/MyDrive/Colab Notebooks/conten...      0\n",
              "4  /content/gdrive/MyDrive/Colab Notebooks/conten...      0"
            ]
          },
          "metadata": {
            "tags": []
          },
          "execution_count": 6
        }
      ]
    },
    {
      "cell_type": "markdown",
      "metadata": {
        "id": "bxTEtQQWHbOV"
      },
      "source": [
        "### Split n the DataFrame into train, test DataFrame using the function train_test_split(test_size=0.2) from the sklearn.model_selection library"
      ]
    },
    {
      "cell_type": "code",
      "metadata": {
        "id": "KWDtpNc8G6Au"
      },
      "source": [
        "train, test = train_test_split(dataset, test_size=0.2, random_state=42)"
      ],
      "execution_count": 7,
      "outputs": []
    },
    {
      "cell_type": "code",
      "metadata": {
        "colab": {
          "base_uri": "https://localhost:8080/"
        },
        "id": "69qJtMobH7YQ",
        "outputId": "17824655-d1d3-466a-c792-72a2bb429a85"
      },
      "source": [
        "print(f\"Train: {train.shape}, Test: {test.shape}\")\n",
        "print(f\"{type(train)}\")"
      ],
      "execution_count": 8,
      "outputs": [
        {
          "output_type": "stream",
          "text": [
            "Train: (11046, 2), Test: (2762, 2)\n",
            "<class 'pandas.core.frame.DataFrame'>\n"
          ],
          "name": "stdout"
        }
      ]
    },
    {
      "cell_type": "markdown",
      "metadata": {
        "id": "zTAi-LYvOSue"
      },
      "source": [
        "### Add train/ test/ validation data augmentation parameters in a dictionary form or use the Keras preprocessing function."
      ]
    },
    {
      "cell_type": "code",
      "metadata": {
        "id": "L2dhpulVIEy0"
      },
      "source": [
        "data_gen_args = dict(featurewise_center=True,\n",
        "                     featurewise_std_normalization=True,\n",
        "                     rotation_range=90,\n",
        "                     width_shift_range=0.1,\n",
        "                     height_shift_range=0.1,\n",
        "                     zoom_range=0.2)"
      ],
      "execution_count": 9,
      "outputs": []
    },
    {
      "cell_type": "markdown",
      "metadata": {
        "id": "4wlKk6F8Oc7X"
      },
      "source": [
        "### Set training/ test/ validation parameters such as BATCH_SIZE, CLASS_MODE, COLOR_MODE, TARGET_SIZE, and EPOCHS."
      ]
    },
    {
      "cell_type": "code",
      "metadata": {
        "id": "01RFinDMOeaX"
      },
      "source": [
        "BATCH_SIZE = 32\n",
        "EPOCHS = 100\n",
        "CLASS_MODE = \"categorical\"\n",
        "COLOR_MODE = \"gray\"\n",
        "TARGET_SIZE = (224, 224)"
      ],
      "execution_count": 10,
      "outputs": []
    },
    {
      "cell_type": "markdown",
      "metadata": {
        "id": "7tmeIchkYes_"
      },
      "source": [
        "### Create a data generator class for reading in DICOM images or use the class provided. With this custom datagenerator class create a train and validation generator."
      ]
    },
    {
      "cell_type": "code",
      "metadata": {
        "id": "PYLa1oGIYglu"
      },
      "source": [
        "class DataGenerator(Sequence):\n",
        "  def __init__(self,\n",
        "               dataframe,\n",
        "               batch_size = 32,\n",
        "               target_size = (224, 224),\n",
        "               x_pos = \"Path\",\n",
        "               y_pos = \"Label\",\n",
        "               shuffle=True, \n",
        "               split = 1):\n",
        "    self.df = dataframe\n",
        "    self.batch_size = batch_size\n",
        "    self.target_size = target_size\n",
        "    self.shuffle = shuffle\n",
        "    self.x_pos = x_pos\n",
        "    self.y_pos = y_pos\n",
        "    self.on_epoch_end()\n",
        "    self.split = split\n",
        "\n",
        "    assert self.batch_size > 0, \"Batch size shouldn't be zero\"\n",
        "\n",
        "  def __len__(self):\n",
        "    return int (self.split * (self.df.shape[0] // self.batch_size))\n",
        "\n",
        "  def __getitem__(self, index):\n",
        "    X = np.empty((self.batch_size, *self.target_size))\n",
        "    y = self.df.iloc[0:self.batch_size].Label.to_numpy()\n",
        "    for idx in range(self.batch_size):\n",
        "      row = self.df.iloc[idx]\n",
        "      fname = row.Path\n",
        "      dicom_image = sitk.ReadImage(fname)\n",
        "      X[idx, :, :] =  sitk.GetArrayFromImage(dicom_image)\n",
        "    return np.expand_dims(X, axis=3), y\n",
        "\n",
        "  def on_epoch_end(self):\n",
        "    self.df = self.df.sample(frac=1)\n"
      ],
      "execution_count": 11,
      "outputs": []
    },
    {
      "cell_type": "code",
      "metadata": {
        "id": "YjnNLZxSCEkh"
      },
      "source": [
        "train_generator = DataGenerator(train)\n",
        "valid_generator = DataGenerator(train, split=0.3)\n",
        "test_generator = DataGenerator(test)"
      ],
      "execution_count": 12,
      "outputs": []
    },
    {
      "cell_type": "markdown",
      "metadata": {
        "id": "RO0iIaxFYhfM"
      },
      "source": [
        "### Build a VGG 16 model from scratch and train using X-ray images"
      ]
    },
    {
      "cell_type": "code",
      "metadata": {
        "id": "nSjL8D7nYmuq"
      },
      "source": [
        "def VGG_16():\n",
        "    model = Sequential()\n",
        "\n",
        "    model.add(InputLayer(input_shape=(224, 224, 1)))\n",
        "    # Block 1\n",
        "    model.add(Conv2D(64, (3, 3),\n",
        "                     activation='relu',\n",
        "                     padding = 'same', \n",
        "                     name='block1_conv1'))    \n",
        "    model.add(Conv2D(64, (3, 3),\n",
        "                     activation='relu',\n",
        "                     padding = 'same', \n",
        "                     name='block1_conv2'))\n",
        "    model.add(MaxPooling2D((2,2), strides=(2,2), name='block1_pool'))\n",
        "\n",
        "    \n",
        "    # Block 2\n",
        "    model.add(Conv2D(128, (3, 3),\n",
        "                     activation='relu',\n",
        "                     padding = 'same', \n",
        "                     name='block2_conv1'))    \n",
        "    model.add(Conv2D(128, (3, 3),\n",
        "                     activation='relu',\n",
        "                     padding = 'same', \n",
        "                     name='block2_conv2'))\n",
        "    model.add(MaxPooling2D((2,2), strides=(2,2), name='block2_pool'))\n",
        "\n",
        "    # Block 3\n",
        "    model.add(Conv2D(256, (3, 3),\n",
        "                     activation='relu',\n",
        "                     padding='same',\n",
        "                     name='block3_conv1'))\n",
        "    model.add(Conv2D(256, (3, 3),\n",
        "                     activation='relu',\n",
        "                     padding='same',\n",
        "                     name='block3_conv2'))    \n",
        "    model.add(Conv2D(256, (3, 3),\n",
        "                     activation='relu',\n",
        "                     padding='same',\n",
        "                     name='block3_conv3'))\n",
        "    model.add(MaxPooling2D((2, 2), strides=(2, 2), name='block3_pool'))\n",
        "\n",
        "    # Block 4\n",
        "    model.add(Conv2D(512, (3, 3),\n",
        "                     activation='relu',\n",
        "                     padding='same',\n",
        "                     name='block4_conv1'))\n",
        "    model.add(Conv2D(512, (3, 3),\n",
        "                     activation='relu',\n",
        "                     padding='same',\n",
        "                     name='block4_conv2'))\n",
        "    model.add(Conv2D(512, (3, 3),\n",
        "                     activation='relu',\n",
        "                     padding='same',\n",
        "                     name='block4_conv3'))\n",
        "    model.add(MaxPooling2D((2, 2), strides=(2, 2), name='block4_pool'))\n",
        "\n",
        "    # Block 5\n",
        "    model.add(Conv2D(512, (3, 3),\n",
        "                     activation='relu',\n",
        "                     padding='same',\n",
        "                     name='block5_conv1'))\n",
        "    model.add(Conv2D(512, (3, 3),\n",
        "                     activation='relu',\n",
        "                     padding='same',\n",
        "                     name='block5_conv2'))\n",
        "    model.add(Conv2D(512, (3, 3),\n",
        "                     activation='relu',\n",
        "                     padding='same',\n",
        "                     name='block5_conv3'))\n",
        "    model.add(MaxPooling2D((2, 2), strides=(2, 2), name='block5_pool'))\n",
        "\n",
        "    model.add(Flatten())\n",
        "    model.add(Dense(64, activation='relu'))\n",
        "    model.add(Dense(64, activation='relu'))\n",
        "    model.add(Dense(1, activation='softmax'))\n",
        "    return model"
      ],
      "execution_count": 13,
      "outputs": []
    },
    {
      "cell_type": "code",
      "metadata": {
        "id": "1UW5FWGzZ2Ke"
      },
      "source": [
        "model = VGG_16()"
      ],
      "execution_count": 14,
      "outputs": []
    },
    {
      "cell_type": "code",
      "metadata": {
        "id": "zTxhZsVH4emD"
      },
      "source": [
        "early_stopping = tf.keras.callbacks.EarlyStopping(\n",
        "    monitor='val_accuracy',\n",
        "    mode='max',\n",
        "    patience=6\n",
        ")"
      ],
      "execution_count": 15,
      "outputs": []
    },
    {
      "cell_type": "code",
      "metadata": {
        "colab": {
          "base_uri": "https://localhost:8080/"
        },
        "id": "0PWeNOCX1N5Z",
        "outputId": "77b371a0-c228-4ea4-8bc9-39ec8173dc2f"
      },
      "source": [
        "model.compile(\n",
        "    loss='binary_crossentropy',\n",
        "    optimizer=tf.keras.optimizers.Adam(),\n",
        "    metrics=['accuracy']\n",
        ")\n",
        "model.summary()"
      ],
      "execution_count": 16,
      "outputs": [
        {
          "output_type": "stream",
          "text": [
            "Model: \"sequential\"\n",
            "_________________________________________________________________\n",
            "Layer (type)                 Output Shape              Param #   \n",
            "=================================================================\n",
            "block1_conv1 (Conv2D)        (None, 224, 224, 64)      640       \n",
            "_________________________________________________________________\n",
            "block1_conv2 (Conv2D)        (None, 224, 224, 64)      36928     \n",
            "_________________________________________________________________\n",
            "block1_pool (MaxPooling2D)   (None, 112, 112, 64)      0         \n",
            "_________________________________________________________________\n",
            "block2_conv1 (Conv2D)        (None, 112, 112, 128)     73856     \n",
            "_________________________________________________________________\n",
            "block2_conv2 (Conv2D)        (None, 112, 112, 128)     147584    \n",
            "_________________________________________________________________\n",
            "block2_pool (MaxPooling2D)   (None, 56, 56, 128)       0         \n",
            "_________________________________________________________________\n",
            "block3_conv1 (Conv2D)        (None, 56, 56, 256)       295168    \n",
            "_________________________________________________________________\n",
            "block3_conv2 (Conv2D)        (None, 56, 56, 256)       590080    \n",
            "_________________________________________________________________\n",
            "block3_conv3 (Conv2D)        (None, 56, 56, 256)       590080    \n",
            "_________________________________________________________________\n",
            "block3_pool (MaxPooling2D)   (None, 28, 28, 256)       0         \n",
            "_________________________________________________________________\n",
            "block4_conv1 (Conv2D)        (None, 28, 28, 512)       1180160   \n",
            "_________________________________________________________________\n",
            "block4_conv2 (Conv2D)        (None, 28, 28, 512)       2359808   \n",
            "_________________________________________________________________\n",
            "block4_conv3 (Conv2D)        (None, 28, 28, 512)       2359808   \n",
            "_________________________________________________________________\n",
            "block4_pool (MaxPooling2D)   (None, 14, 14, 512)       0         \n",
            "_________________________________________________________________\n",
            "block5_conv1 (Conv2D)        (None, 14, 14, 512)       2359808   \n",
            "_________________________________________________________________\n",
            "block5_conv2 (Conv2D)        (None, 14, 14, 512)       2359808   \n",
            "_________________________________________________________________\n",
            "block5_conv3 (Conv2D)        (None, 14, 14, 512)       2359808   \n",
            "_________________________________________________________________\n",
            "block5_pool (MaxPooling2D)   (None, 7, 7, 512)         0         \n",
            "_________________________________________________________________\n",
            "flatten (Flatten)            (None, 25088)             0         \n",
            "_________________________________________________________________\n",
            "dense (Dense)                (None, 64)                1605696   \n",
            "_________________________________________________________________\n",
            "dense_1 (Dense)              (None, 64)                4160      \n",
            "_________________________________________________________________\n",
            "dense_2 (Dense)              (None, 1)                 65        \n",
            "=================================================================\n",
            "Total params: 16,323,457\n",
            "Trainable params: 16,323,457\n",
            "Non-trainable params: 0\n",
            "_________________________________________________________________\n"
          ],
          "name": "stdout"
        }
      ]
    },
    {
      "cell_type": "code",
      "metadata": {
        "id": "pdQabpIJ11gm",
        "colab": {
          "base_uri": "https://localhost:8080/"
        },
        "outputId": "bc20a010-dd13-4e64-fa15-1c3e4a10c3cf"
      },
      "source": [
        "history = model.fit(train_generator,\n",
        "                    batch_size=BATCH_SIZE,\n",
        "                    callbacks=[early_stopping],\n",
        "                    validation_data=valid_generator,\n",
        "                    epochs=100)"
      ],
      "execution_count": 17,
      "outputs": [
        {
          "output_type": "stream",
          "text": [
            "Epoch 1/100\n",
            "345/345 [==============================] - 354s 902ms/step - loss: 1.0060 - accuracy: 0.8750 - val_loss: 74.5907 - val_accuracy: 0.6875\n",
            "Epoch 2/100\n",
            "345/345 [==============================] - 326s 902ms/step - loss: 0.2710 - accuracy: 0.7188 - val_loss: 12.2562 - val_accuracy: 0.6875\n",
            "Epoch 3/100\n",
            "345/345 [==============================] - 354s 983ms/step - loss: 0.3698 - accuracy: 0.7500 - val_loss: 14.2008 - val_accuracy: 0.8125\n",
            "Epoch 4/100\n",
            "345/345 [==============================] - 327s 906ms/step - loss: 1.1428 - accuracy: 0.8125 - val_loss: 1.4077 - val_accuracy: 0.6250\n",
            "Epoch 5/100\n",
            "345/345 [==============================] - 320s 886ms/step - loss: 0.1620 - accuracy: 0.7812 - val_loss: 4.8705 - val_accuracy: 0.8125\n",
            "Epoch 6/100\n",
            "345/345 [==============================] - 322s 893ms/step - loss: 0.1898 - accuracy: 0.8125 - val_loss: 15.3981 - val_accuracy: 0.7500\n",
            "Epoch 7/100\n",
            "345/345 [==============================] - 322s 892ms/step - loss: 0.0770 - accuracy: 0.6562 - val_loss: 8.1237 - val_accuracy: 0.7188\n",
            "Epoch 8/100\n",
            "345/345 [==============================] - 321s 887ms/step - loss: 0.1092 - accuracy: 0.7188 - val_loss: 7.7183 - val_accuracy: 0.7812\n",
            "Epoch 9/100\n",
            "345/345 [==============================] - 351s 979ms/step - loss: 0.1329 - accuracy: 0.6250 - val_loss: 23.4028 - val_accuracy: 0.7188\n"
          ],
          "name": "stdout"
        }
      ]
    },
    {
      "cell_type": "code",
      "metadata": {
        "id": "VPTJOxMMo9mU"
      },
      "source": [
        ""
      ],
      "execution_count": 17,
      "outputs": []
    }
  ]
}